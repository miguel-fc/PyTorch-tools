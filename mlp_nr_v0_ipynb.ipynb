{
  "nbformat": 4,
  "nbformat_minor": 0,
  "metadata": {
    "colab": {
      "name": "mlp-nr-v0-ipynb",
      "provenance": [],
      "collapsed_sections": [],
      "authorship_tag": "ABX9TyP9RZzp5nHOQOWmkWIrM+dW",
      "include_colab_link": true
    },
    "kernelspec": {
      "name": "python3",
      "display_name": "Python 3"
    },
    "language_info": {
      "name": "python"
    },
    "accelerator": "GPU",
    "gpuClass": "standard"
  },
  "cells": [
    {
      "cell_type": "markdown",
      "metadata": {
        "id": "view-in-github",
        "colab_type": "text"
      },
      "source": [
        "<a href=\"https://colab.research.google.com/github/miguel-fc/PyTorch-tools/blob/main/mlp_nr_v0_ipynb.ipynb\" target=\"_parent\"><img src=\"https://colab.research.google.com/assets/colab-badge.svg\" alt=\"Open In Colab\"/></a>"
      ]
    },
    {
      "cell_type": "code",
      "source": [
        "# Import Python related required packages\n",
        "import io\n",
        "import cv2\n",
        "import gdown\n",
        "import numpy as np\n",
        "import matplotlib\n",
        "import matplotlib.pyplot as plt\n",
        "import matplotlib.gridspec as gridspec\n",
        "%matplotlib inline\n",
        "import plotly.express as px\n",
        "from sklearn.metrics import mean_squared_error\n",
        "from scipy.stats import gaussian_kde, norm\n",
        "from sklearn.model_selection import train_test_split, GridSearchCV\n",
        "from sklearn.ensemble import RandomForestRegressor\n",
        "from sklearn.manifold import TSNE\n",
        "from sklearn.metrics import mean_squared_error\n",
        "import pandas as pd\n",
        "from tqdm import tqdm\n",
        "import pickle\n",
        "\n",
        "#Import torch related packages\n",
        "import torch\n",
        "import torchvision\n",
        "from torchvision import transforms\n",
        "from torch.utils.data import DataLoader,random_split, Dataset, TensorDataset\n",
        "from torch import nn\n",
        "import torch.nn.functional as F\n",
        "import torch.optim as optim"
      ],
      "metadata": {
        "id": "py3Go418uvzR"
      },
      "execution_count": 1,
      "outputs": []
    },
    {
      "cell_type": "code",
      "source": [
        "#Set these important parameters\n",
        "#Dimension of the latent space \n",
        "d = 3\n",
        "#Number of labels\n",
        "nl = 3\n",
        "#Number of epochs\n",
        "num_epochs = 1600"
      ],
      "metadata": {
        "id": "tCtk6FOxvOjU"
      },
      "execution_count": 2,
      "outputs": []
    },
    {
      "cell_type": "code",
      "source": [
        "#Download dataloaders containing training, validation and test data for the MLP\n",
        "!gdown \"https://drive.google.com/uc?id=1zJPzEDRsqtJWtKKnaLAweNs2O2D3banH\"\n",
        "!gdown \"https://drive.google.com/uc?id=1-44uc7wce6iyr-6jZqF_KvpyRT1U0E-_\"\n",
        "!gdown \"https://drive.google.com/uc?id=1-0vJiyXciH_dycEwBAYj5pM5TVtTGfYI\"\n",
        "!gdown \"https://drive.google.com/uc?id=11JUoHfBjRzCoWKldR42V3Jp7cbflPZG7\""
      ],
      "metadata": {
        "colab": {
          "base_uri": "https://localhost:8080/"
        },
        "id": "XBq0lCj5vOl8",
        "outputId": "235ac047-eb40-4696-8d22-c7efbdc5ead5"
      },
      "execution_count": 3,
      "outputs": [
        {
          "output_type": "stream",
          "name": "stdout",
          "text": [
            "Downloading...\n",
            "From: https://drive.google.com/uc?id=1zJPzEDRsqtJWtKKnaLAweNs2O2D3banH\n",
            "To: /content/mlp_train_loader.pth\n",
            "100% 116k/116k [00:00<00:00, 59.8MB/s]\n",
            "Downloading...\n",
            "From: https://drive.google.com/uc?id=1-44uc7wce6iyr-6jZqF_KvpyRT1U0E-_\n",
            "To: /content/mlp_valid_loader.pth\n",
            "100% 15.9k/15.9k [00:00<00:00, 17.3MB/s]\n",
            "Downloading...\n",
            "From: https://drive.google.com/uc?id=1-0vJiyXciH_dycEwBAYj5pM5TVtTGfYI\n",
            "To: /content/mlp_test_loader.pth\n",
            "100% 15.9k/15.9k [00:00<00:00, 17.2MB/s]\n",
            "Downloading...\n",
            "From: https://drive.google.com/uc?id=11JUoHfBjRzCoWKldR42V3Jp7cbflPZG7\n",
            "To: /content/mlp_test_dataset.pth\n",
            "100% 15.3k/15.3k [00:00<00:00, 16.0MB/s]\n"
          ]
        }
      ]
    },
    {
      "cell_type": "code",
      "source": [
        "train_loader = torch.load('mlp_train_loader.pth')\n",
        "valid_loader = torch.load('mlp_valid_loader.pth')\n",
        "test_loader = torch.load('mlp_test_loader.pth')\n",
        "\n",
        "test_dataset = torch.load('mlp_test_dataset.pth')"
      ],
      "metadata": {
        "id": "VJUTDhDavOov"
      },
      "execution_count": 4,
      "outputs": []
    },
    {
      "cell_type": "code",
      "execution_count": 5,
      "metadata": {
        "id": "f9SGJ5ItuSez"
      },
      "outputs": [],
      "source": [
        "#Defining a Multilayer Perceptron, MLP.\n",
        "class MLP(nn.Module):\n",
        "\n",
        "  def __init__(self,dim):\n",
        "    super().__init__()\n",
        "    self.layers = nn.Sequential(\n",
        "      nn.Linear(d, 500),\n",
        "      nn.ReLU(),\n",
        "      nn.Linear(500, nl),\n",
        "      # nn.ReLU(),\n",
        "      # nn.Linear(32, nl),\n",
        "    )\n",
        "\n",
        "  def forward(self, x):\n",
        "    return self.layers(x)"
      ]
    },
    {
      "cell_type": "code",
      "source": [
        "# from torch.optim import optimizer\n",
        "### Define the loss function \n",
        "loss_fn = torch.nn.MSELoss()\n",
        "\n",
        "### Define the learning rate\n",
        "lr= 0.001\n",
        "\n",
        "### Set the random seed for reproducible results\n",
        "torch.manual_seed(0)\n",
        "\n",
        "#model \n",
        "model = MLP(dim=d)\n",
        "params_to_optimize = [\n",
        "    {'params': model.parameters()}\n",
        "]\n",
        "\n",
        "#Define the optimizer\n",
        "optim = torch.optim.Adam(params_to_optimize, lr=lr, weight_decay=1e-05)\n",
        "\n",
        "#Checking the device\n",
        "device = torch.device(\"cuda\") if torch.cuda.is_available() else torch.device(\"cpu\")\n",
        "print(f'Selected device: {device}')\n"
      ],
      "metadata": {
        "colab": {
          "base_uri": "https://localhost:8080/"
        },
        "id": "kVrTyX9Xv6LB",
        "outputId": "ae4b7bea-948a-43e8-febb-8b1a91e1c7cb"
      },
      "execution_count": 6,
      "outputs": [
        {
          "output_type": "stream",
          "name": "stdout",
          "text": [
            "Selected device: cuda\n"
          ]
        }
      ]
    },
    {
      "cell_type": "code",
      "source": [
        "# Move model to device\n",
        "model.to(device)"
      ],
      "metadata": {
        "colab": {
          "base_uri": "https://localhost:8080/"
        },
        "id": "NVLPCI-ewRAC",
        "outputId": "2d81f813-3f79-486f-f6f6-99e37a597fc8"
      },
      "execution_count": 7,
      "outputs": [
        {
          "output_type": "execute_result",
          "data": {
            "text/plain": [
              "MLP(\n",
              "  (layers): Sequential(\n",
              "    (0): Linear(in_features=3, out_features=500, bias=True)\n",
              "    (1): ReLU()\n",
              "    (2): Linear(in_features=500, out_features=3, bias=True)\n",
              "  )\n",
              ")"
            ]
          },
          "metadata": {},
          "execution_count": 7
        }
      ]
    },
    {
      "cell_type": "code",
      "source": [
        "### Training function\n",
        "def train_epoch(model, device, dataloader, loss_fn, optimizer):\n",
        "    model.train()\n",
        "    train_loss = []\n",
        "    for data,label in dataloader: \n",
        "        img = data\n",
        "        img = img.to(device)\n",
        "        # print(img.shape)\n",
        "        label = label.to(device)\n",
        "        out_label = model(img)\n",
        "        loss = loss_fn(out_label, label)\n",
        "        optimizer.zero_grad()\n",
        "        loss.backward()\n",
        "        optimizer.step()\n",
        "        train_loss.append(loss.detach().cpu().numpy())\n",
        "\n",
        "    return np.mean(train_loss)"
      ],
      "metadata": {
        "id": "YyIYWOMdwUJF"
      },
      "execution_count": 8,
      "outputs": []
    },
    {
      "cell_type": "code",
      "source": [
        "### Valid function\n",
        "def valid_epoch(model, device, dataloader, loss_fn):\n",
        "    model.eval()\n",
        "    with torch.no_grad(): \n",
        "        list_decoded_img = []\n",
        "        list_img = []\n",
        "        for  data, label in dataloader:\n",
        "            img = data\n",
        "            img = img.to(device)\n",
        "            label = label.to(device)\n",
        "            out_label = model(img)\n",
        "            list_decoded_img.append(out_label.cpu())\n",
        "            list_img.append(label.cpu())\n",
        "        list_decoded_img = torch.cat(list_decoded_img)\n",
        "        list_img = torch.cat(list_img) \n",
        "        val_loss = loss_fn(list_decoded_img, list_img)\n",
        "    return val_loss.data"
      ],
      "metadata": {
        "id": "beJWujIxwYdR"
      },
      "execution_count": 9,
      "outputs": []
    },
    {
      "cell_type": "code",
      "source": [
        "diz_loss = {'train_loss':[],'val_loss':[]}\n",
        "for epoch in range(num_epochs):\n",
        "  # print (epoch)\n",
        "  train_loss = train_epoch(model,device,train_loader,loss_fn,optim)\n",
        "  val_loss = valid_epoch(model,device,valid_loader,loss_fn)\n",
        "  print('EPOCH {}/{} \\t train loss {} \\t val loss {}'.format(epoch + 1, num_epochs,train_loss,val_loss))\n",
        "  diz_loss['train_loss'].append(train_loss)\n",
        "  diz_loss['val_loss'].append(val_loss)\n"
      ],
      "metadata": {
        "id": "EWz_69w1wlPm"
      },
      "execution_count": null,
      "outputs": []
    },
    {
      "cell_type": "code",
      "source": [
        "# Plot losses\n",
        "plt.figure(figsize=(10,8))\n",
        "plt.semilogy(diz_loss['train_loss'], label='Train')\n",
        "plt.semilogy(diz_loss['val_loss'], label='Valid')\n",
        "plt.xlabel('Epoch')\n",
        "plt.ylabel('Average Loss')\n",
        "#plt.grid()\n",
        "plt.legend()\n",
        "#plt.title('loss')\n",
        "plt.show()"
      ],
      "metadata": {
        "colab": {
          "base_uri": "https://localhost:8080/",
          "height": 497
        },
        "id": "wU-yJJqoynUZ",
        "outputId": "3f873995-5d96-4ae6-d0bf-b185a5b115e4"
      },
      "execution_count": 11,
      "outputs": [
        {
          "output_type": "display_data",
          "data": {
            "text/plain": [
              "<Figure size 720x576 with 1 Axes>"
            ],
            "image/png": "[encoded data removed]"
          },
          "metadata": {
            "needs_background": "light"
          }
        }
      ]
    },
    {
      "cell_type": "code",
      "source": [
        "out_samples = []\n",
        "for sample in test_dataset:\n",
        "    img = sample[0]\n",
        "    img = img.to(device) \n",
        "    label_val = sample[1]\n",
        "    # print(label_val.shape)\n",
        "    model.eval()\n",
        "    with torch.no_grad():\n",
        "        out_label  = model(img)\n",
        "    out_label = out_label.cpu().numpy()\n",
        "    # print(enumerate(encoded_img))\n",
        "    out_sample = {f\"pred_label{i}\": enc for i, enc in enumerate(out_label)}\n",
        "    for i in range(nl):\n",
        "      label_index = 'label'+str(i)\n",
        "      out_sample[label_index] = label_val[i].numpy()\n",
        "    # encoded_sample['label1'] = label[1].numpy()\n",
        "    # encoded_sample['label2'] = label[2].numpy()\n",
        "    # encoded_sample['label3'] = label[3].numpy()\n",
        "    out_samples.append(out_sample)\n",
        "df_out_samples = pd.DataFrame(out_samples)\n",
        "df_out_samples\n",
        "\n"
      ],
      "metadata": {
        "colab": {
          "base_uri": "https://localhost:8080/",
          "height": 424
        },
        "id": "INPWUJYi00VT",
        "outputId": "6f319cb0-4a5b-4a65-f5e7-fa9285f0e481"
      },
      "execution_count": 12,
      "outputs": [
        {
          "output_type": "execute_result",
          "data": {
            "text/plain": [
              "     pred_label0  pred_label1  pred_label2  label0  label1    label2\n",
              "0       0.149972    -0.365494    -0.202298    0.17  -0.379  -0.19889\n",
              "1       0.069622     0.257520    -0.405568   0.081   0.233  -0.41988\n",
              "2       0.068979     0.473087     0.118361  0.0836   0.545   0.04137\n",
              "3       0.107765    -0.367999     0.098013   0.104  -0.104   0.02657\n",
              "4       0.151935     0.450645     0.162790   0.191   0.454   0.07949\n",
              "..           ...          ...          ...     ...     ...       ...\n",
              "590     0.145140    -0.304312     0.215359   0.146  -0.418   0.21433\n",
              "591     0.122952    -0.277515     0.403790   0.106  -0.245   0.46617\n",
              "592     0.144358    -0.266587     0.438049   0.129  -0.131   0.43445\n",
              "593     0.083755     0.378526    -0.351444  0.0882   0.325  -0.23206\n",
              "594     0.150924    -0.135567    -0.482983   0.182  -0.035  -0.47177\n",
              "\n",
              "[595 rows x 6 columns]"
            ],
            "text/html": [
              "\n",
              "  <div id=\"df-8a3ee141-ecd5-4985-a2e0-8542b9eb2eb4\">\n",
              "    <div class=\"colab-df-container\">\n",
              "      <div>\n",
              "<style scoped>\n",
              "    .dataframe tbody tr th:only-of-type {\n",
              "        vertical-align: middle;\n",
              "    }\n",
              "\n",
              "    .dataframe tbody tr th {\n",
              "        vertical-align: top;\n",
              "    }\n",
              "\n",
              "    .dataframe thead th {\n",
              "        text-align: right;\n",
              "    }\n",
              "</style>\n",
              "<table border=\"1\" class=\"dataframe\">\n",
              "  <thead>\n",
              "    <tr style=\"text-align: right;\">\n",
              "      <th></th>\n",
              "      <th>pred_label0</th>\n",
              "      <th>pred_label1</th>\n",
              "      <th>pred_label2</th>\n",
              "      <th>label0</th>\n",
              "      <th>label1</th>\n",
              "      <th>label2</th>\n",
              "    </tr>\n",
              "  </thead>\n",
              "  <tbody>\n",
              "    <tr>\n",
              "      <th>0</th>\n",
              "      <td>0.149972</td>\n",
              "      <td>-0.365494</td>\n",
              "      <td>-0.202298</td>\n",
              "      <td>0.17</td>\n",
              "      <td>-0.379</td>\n",
              "      <td>-0.19889</td>\n",
              "    </tr>\n",
              "    <tr>\n",
              "      <th>1</th>\n",
              "      <td>0.069622</td>\n",
              "      <td>0.257520</td>\n",
              "      <td>-0.405568</td>\n",
              "      <td>0.081</td>\n",
              "      <td>0.233</td>\n",
              "      <td>-0.41988</td>\n",
              "    </tr>\n",
              "    <tr>\n",
              "      <th>2</th>\n",
              "      <td>0.068979</td>\n",
              "      <td>0.473087</td>\n",
              "      <td>0.118361</td>\n",
              "      <td>0.0836</td>\n",
              "      <td>0.545</td>\n",
              "      <td>0.04137</td>\n",
              "    </tr>\n",
              "    <tr>\n",
              "      <th>3</th>\n",
              "      <td>0.107765</td>\n",
              "      <td>-0.367999</td>\n",
              "      <td>0.098013</td>\n",
              "      <td>0.104</td>\n",
              "      <td>-0.104</td>\n",
              "      <td>0.02657</td>\n",
              "    </tr>\n",
              "    <tr>\n",
              "      <th>4</th>\n",
              "      <td>0.151935</td>\n",
              "      <td>0.450645</td>\n",
              "      <td>0.162790</td>\n",
              "      <td>0.191</td>\n",
              "      <td>0.454</td>\n",
              "      <td>0.07949</td>\n",
              "    </tr>\n",
              "    <tr>\n",
              "      <th>...</th>\n",
              "      <td>...</td>\n",
              "      <td>...</td>\n",
              "      <td>...</td>\n",
              "      <td>...</td>\n",
              "      <td>...</td>\n",
              "      <td>...</td>\n",
              "    </tr>\n",
              "    <tr>\n",
              "      <th>590</th>\n",
              "      <td>0.145140</td>\n",
              "      <td>-0.304312</td>\n",
              "      <td>0.215359</td>\n",
              "      <td>0.146</td>\n",
              "      <td>-0.418</td>\n",
              "      <td>0.21433</td>\n",
              "    </tr>\n",
              "    <tr>\n",
              "      <th>591</th>\n",
              "      <td>0.122952</td>\n",
              "      <td>-0.277515</td>\n",
              "      <td>0.403790</td>\n",
              "      <td>0.106</td>\n",
              "      <td>-0.245</td>\n",
              "      <td>0.46617</td>\n",
              "    </tr>\n",
              "    <tr>\n",
              "      <th>592</th>\n",
              "      <td>0.144358</td>\n",
              "      <td>-0.266587</td>\n",
              "      <td>0.438049</td>\n",
              "      <td>0.129</td>\n",
              "      <td>-0.131</td>\n",
              "      <td>0.43445</td>\n",
              "    </tr>\n",
              "    <tr>\n",
              "      <th>593</th>\n",
              "      <td>0.083755</td>\n",
              "      <td>0.378526</td>\n",
              "      <td>-0.351444</td>\n",
              "      <td>0.0882</td>\n",
              "      <td>0.325</td>\n",
              "      <td>-0.23206</td>\n",
              "    </tr>\n",
              "    <tr>\n",
              "      <th>594</th>\n",
              "      <td>0.150924</td>\n",
              "      <td>-0.135567</td>\n",
              "      <td>-0.482983</td>\n",
              "      <td>0.182</td>\n",
              "      <td>-0.035</td>\n",
              "      <td>-0.47177</td>\n",
              "    </tr>\n",
              "  </tbody>\n",
              "</table>\n",
              "<p>595 rows × 6 columns</p>\n",
              "</div>\n",
              "      <button class=\"colab-df-convert\" onclick=\"convertToInteractive('df-8a3ee141-ecd5-4985-a2e0-8542b9eb2eb4')\"\n",
              "              title=\"Convert this dataframe to an interactive table.\"\n",
              "              style=\"display:none;\">\n",
              "        \n",
              "  <svg xmlns=\"http://www.w3.org/2000/svg\" height=\"24px\"viewBox=\"0 0 24 24\"\n",
              "       width=\"24px\">\n",
              "    <path d=\"M0 0h24v24H0V0z\" fill=\"none\"/>\n",
              "    <path d=\"M18.56 5.44l.94 2.06.94-2.06 2.06-.94-2.06-.94-.94-2.06-.94 2.06-2.06.94zm-11 1L8.5 8.5l.94-2.06 2.06-.94-2.06-.94L8.5 2.5l-.94 2.06-2.06.94zm10 10l.94 2.06.94-2.06 2.06-.94-2.06-.94-.94-2.06-.94 2.06-2.06.94z\"/><path d=\"M17.41 7.96l-1.37-1.37c-.4-.4-.92-.59-1.43-.59-.52 0-1.04.2-1.43.59L10.3 9.45l-7.72 7.72c-.78.78-.78 2.05 0 2.83L4 21.41c.39.39.9.59 1.41.59.51 0 1.02-.2 1.41-.59l7.78-7.78 2.81-2.81c.8-.78.8-2.07 0-2.86zM5.41 20L4 18.59l7.72-7.72 1.47 1.35L5.41 20z\"/>\n",
              "  </svg>\n",
              "      </button>\n",
              "      \n",
              "  <style>\n",
              "    .colab-df-container {\n",
              "      display:flex;\n",
              "      flex-wrap:wrap;\n",
              "      gap: 12px;\n",
              "    }\n",
              "\n",
              "    .colab-df-convert {\n",
              "      background-color: #E8F0FE;\n",
              "      border: none;\n",
              "      border-radius: 50%;\n",
              "      cursor: pointer;\n",
              "      display: none;\n",
              "      fill: #1967D2;\n",
              "      height: 32px;\n",
              "      padding: 0 0 0 0;\n",
              "      width: 32px;\n",
              "    }\n",
              "\n",
              "    .colab-df-convert:hover {\n",
              "      background-color: #E2EBFA;\n",
              "      box-shadow: 0px 1px 2px rgba(60, 64, 67, 0.3), 0px 1px 3px 1px rgba(60, 64, 67, 0.15);\n",
              "      fill: #174EA6;\n",
              "    }\n",
              "\n",
              "    [theme=dark] .colab-df-convert {\n",
              "      background-color: #3B4455;\n",
              "      fill: #D2E3FC;\n",
              "    }\n",
              "\n",
              "    [theme=dark] .colab-df-convert:hover {\n",
              "      background-color: #434B5C;\n",
              "      box-shadow: 0px 1px 3px 1px rgba(0, 0, 0, 0.15);\n",
              "      filter: drop-shadow(0px 1px 2px rgba(0, 0, 0, 0.3));\n",
              "      fill: #FFFFFF;\n",
              "    }\n",
              "  </style>\n",
              "\n",
              "      <script>\n",
              "        const buttonEl =\n",
              "          document.querySelector('#df-8a3ee141-ecd5-4985-a2e0-8542b9eb2eb4 button.colab-df-convert');\n",
              "        buttonEl.style.display =\n",
              "          google.colab.kernel.accessAllowed ? 'block' : 'none';\n",
              "\n",
              "        async function convertToInteractive(key) {\n",
              "          const element = document.querySelector('#df-8a3ee141-ecd5-4985-a2e0-8542b9eb2eb4');\n",
              "          const dataTable =\n",
              "            await google.colab.kernel.invokeFunction('convertToInteractive',\n",
              "                                                     [key], {});\n",
              "          if (!dataTable) return;\n",
              "\n",
              "          const docLinkHtml = 'Like what you see? Visit the ' +\n",
              "            '<a target=\"_blank\" href=https://colab.research.google.com/notebooks/data_table.ipynb>data table notebook</a>'\n",
              "            + ' to learn more about interactive tables.';\n",
              "          element.innerHTML = '';\n",
              "          dataTable['output_type'] = 'display_data';\n",
              "          await google.colab.output.renderOutput(dataTable, element);\n",
              "          const docLink = document.createElement('div');\n",
              "          docLink.innerHTML = docLinkHtml;\n",
              "          element.appendChild(docLink);\n",
              "        }\n",
              "      </script>\n",
              "    </div>\n",
              "  </div>\n",
              "  "
            ]
          },
          "metadata": {},
          "execution_count": 12
        }
      ]
    },
    {
      "cell_type": "code",
      "source": [
        "df_out_samples.plot(x ='label0', y='pred_label0', kind = 'scatter')\n",
        "plt.show()"
      ],
      "metadata": {
        "colab": {
          "base_uri": "https://localhost:8080/",
          "height": 279
        },
        "id": "Aw0Y6Rd0ETIC",
        "outputId": "6c291437-a4df-4ecf-90b7-32113ec0545c"
      },
      "execution_count": 13,
      "outputs": [
        {
          "output_type": "display_data",
          "data": {
            "text/plain": [
              "<Figure size 432x288 with 1 Axes>"
            ],
            "image/png": "[encoded data removed]"
          },
          "metadata": {
            "needs_background": "light"
          }
        }
      ]
    },
    {
      "cell_type": "code",
      "source": [
        "df_out_samples.plot(x ='label1', y='pred_label1', kind = 'scatter')\n",
        "plt.show()"
      ],
      "metadata": {
        "colab": {
          "base_uri": "https://localhost:8080/",
          "height": 279
        },
        "id": "8GiU99aaEl78",
        "outputId": "c5cfe766-af96-4aec-9562-a67a7da79ab1"
      },
      "execution_count": 14,
      "outputs": [
        {
          "output_type": "display_data",
          "data": {
            "text/plain": [
              "<Figure size 432x288 with 1 Axes>"
            ],
            "image/png": "[encoded data removed]"
          },
          "metadata": {
            "needs_background": "light"
          }
        }
      ]
    },
    {
      "cell_type": "code",
      "source": [
        "df_out_samples.plot(x ='label2', y='pred_label2', kind = 'scatter')\n",
        "plt.show()"
      ],
      "metadata": {
        "colab": {
          "base_uri": "https://localhost:8080/",
          "height": 279
        },
        "id": "EQrsYOQXEx8S",
        "outputId": "9e4a00b6-1ac9-492e-9702-b3cff92ba7da"
      },
      "execution_count": 15,
      "outputs": [
        {
          "output_type": "display_data",
          "data": {
            "text/plain": [
              "<Figure size 432x288 with 1 Axes>"
            ],
            "image/png": "[encoded data removed]"
          },
          "metadata": {
            "needs_background": "light"
          }
        }
      ]
    }
  ]
}