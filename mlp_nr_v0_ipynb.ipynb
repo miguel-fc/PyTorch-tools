{
  "nbformat": 4,
  "nbformat_minor": 0,
  "metadata": {
    "colab": {
      "name": "mlp-nr-v0-ipynb",
      "provenance": [],
      "collapsed_sections": [],
      "authorship_tag": "ABX9TyMKPdsRPTCaDnPLr6zAnXHb",
      "include_colab_link": true
    },
    "kernelspec": {
      "name": "python3",
      "display_name": "Python 3"
    },
    "language_info": {
      "name": "python"
    }
  },
  "cells": [
    {
      "cell_type": "markdown",
      "metadata": {
        "id": "view-in-github",
        "colab_type": "text"
      },
      "source": [
        "<a href=\"https://colab.research.google.com/github/miguel-fc/PyTorch-tools/blob/main/mlp_nr_v0_ipynb.ipynb\" target=\"_parent\"><img src=\"https://colab.research.google.com/assets/colab-badge.svg\" alt=\"Open In Colab\"/></a>"
      ]
    },
    {
      "cell_type": "code",
      "source": [
        "# Import Python related required packages\n",
        "import io\n",
        "import cv2\n",
        "import gdown\n",
        "import numpy as np\n",
        "import matplotlib\n",
        "import matplotlib.pyplot as plt\n",
        "import matplotlib.gridspec as gridspec\n",
        "%matplotlib inline\n",
        "import plotly.express as px\n",
        "from sklearn.metrics import mean_squared_error\n",
        "from scipy.stats import gaussian_kde, norm\n",
        "from sklearn.model_selection import train_test_split, GridSearchCV\n",
        "from sklearn.ensemble import RandomForestRegressor\n",
        "from sklearn.manifold import TSNE\n",
        "from sklearn.metrics import mean_squared_error\n",
        "import pandas as pd\n",
        "from tqdm import tqdm\n",
        "import pickle\n",
        "\n",
        "#Import torch related packages\n",
        "import torch\n",
        "import torchvision\n",
        "from torchvision import transforms\n",
        "from torch.utils.data import DataLoader,random_split, Dataset, TensorDataset\n",
        "from torch import nn\n",
        "import torch.nn.functional as F\n",
        "import torch.optim as optim"
      ],
      "metadata": {
        "id": "py3Go418uvzR"
      },
      "execution_count": 1,
      "outputs": []
    },
    {
      "cell_type": "code",
      "source": [
        "#Set these important parameters\n",
        "#Dimension of the latent space \n",
        "d = 3\n",
        "#Number of labels\n",
        "nl = 3\n",
        "#Number of epochs\n",
        "num_epochs = 200"
      ],
      "metadata": {
        "id": "tCtk6FOxvOjU"
      },
      "execution_count": 2,
      "outputs": []
    },
    {
      "cell_type": "code",
      "source": [
        "#Download dataloaders containing training, validation and test data for the MLP\n",
        "!gdown \"https://drive.google.com/uc?id=1zJPzEDRsqtJWtKKnaLAweNs2O2D3banH\"\n",
        "!gdown \"https://drive.google.com/uc?id=1-44uc7wce6iyr-6jZqF_KvpyRT1U0E-_\"\n",
        "!gdown \"https://drive.google.com/uc?id=1-0vJiyXciH_dycEwBAYj5pM5TVtTGfYI\"\n",
        "!gdown \"https://drive.google.com/uc?id=11JUoHfBjRzCoWKldR42V3Jp7cbflPZG7\""
      ],
      "metadata": {
        "colab": {
          "base_uri": "https://localhost:8080/"
        },
        "id": "XBq0lCj5vOl8",
        "outputId": "53b4a360-f0e5-457c-dac0-71fa51c854bc"
      },
      "execution_count": 3,
      "outputs": [
        {
          "output_type": "stream",
          "name": "stdout",
          "text": [
            "Downloading...\n",
            "From: https://drive.google.com/uc?id=1zJPzEDRsqtJWtKKnaLAweNs2O2D3banH\n",
            "To: /content/mlp_train_loader.pth\n",
            "100% 116k/116k [00:00<00:00, 43.3MB/s]\n",
            "Downloading...\n",
            "From: https://drive.google.com/uc?id=1-44uc7wce6iyr-6jZqF_KvpyRT1U0E-_\n",
            "To: /content/mlp_valid_loader.pth\n",
            "100% 15.9k/15.9k [00:00<00:00, 16.1MB/s]\n",
            "Downloading...\n",
            "From: https://drive.google.com/uc?id=1-0vJiyXciH_dycEwBAYj5pM5TVtTGfYI\n",
            "To: /content/mlp_test_loader.pth\n",
            "100% 15.9k/15.9k [00:00<00:00, 1.26MB/s]\n",
            "Downloading...\n",
            "From: https://drive.google.com/uc?id=11JUoHfBjRzCoWKldR42V3Jp7cbflPZG7\n",
            "To: /content/mlp_test_dataset.pth\n",
            "100% 15.3k/15.3k [00:00<00:00, 21.2MB/s]\n"
          ]
        }
      ]
    },
    {
      "cell_type": "code",
      "source": [
        "train_loader = torch.load('mlp_train_loader.pth')\n",
        "valid_loader = torch.load('mlp_valid_loader.pth')\n",
        "test_loader = torch.load('mlp_test_loader.pth')\n",
        "\n",
        "test_dataset = torch.load('mlp_test_dataset.pth')"
      ],
      "metadata": {
        "id": "VJUTDhDavOov"
      },
      "execution_count": 4,
      "outputs": []
    },
    {
      "cell_type": "code",
      "execution_count": 5,
      "metadata": {
        "id": "f9SGJ5ItuSez"
      },
      "outputs": [],
      "source": [
        "#Defining a Multilayer Perceptron, MLP.\n",
        "class MLP(nn.Module):\n",
        "\n",
        "  def __init__(self,dim):\n",
        "    super().__init__()\n",
        "    self.layers = nn.Sequential(\n",
        "      nn.Linear(d, 64),\n",
        "      nn.ReLU(),\n",
        "      nn.Linear(64, nl),\n",
        "      # nn.ReLU(),\n",
        "      # nn.Linear(32, nl),\n",
        "    )\n",
        "\n",
        "  def forward(self, x):\n",
        "    return self.layers(x)"
      ]
    },
    {
      "cell_type": "code",
      "source": [
        "# from torch.optim import optimizer\n",
        "### Define the loss function \n",
        "loss_fn = torch.nn.MSELoss()\n",
        "\n",
        "### Define the learning rate\n",
        "lr= 0.001\n",
        "\n",
        "### Set the random seed for reproducible results\n",
        "torch.manual_seed(0)\n",
        "\n",
        "#model \n",
        "model = MLP(dim=d)\n",
        "params_to_optimize = [\n",
        "    {'params': model.parameters()}\n",
        "]\n",
        "\n",
        "#Define the optimizer\n",
        "optim = torch.optim.Adam(params_to_optimize, lr=lr, weight_decay=1e-05)\n",
        "\n",
        "#Checking the device\n",
        "device = torch.device(\"cuda\") if torch.cuda.is_available() else torch.device(\"cpu\")\n",
        "print(f'Selected device: {device}')\n"
      ],
      "metadata": {
        "colab": {
          "base_uri": "https://localhost:8080/"
        },
        "id": "kVrTyX9Xv6LB",
        "outputId": "46b0211f-dbde-421b-df1c-c92d20282013"
      },
      "execution_count": 6,
      "outputs": [
        {
          "output_type": "stream",
          "name": "stdout",
          "text": [
            "Selected device: cpu\n"
          ]
        }
      ]
    },
    {
      "cell_type": "code",
      "source": [
        "# Move model to device\n",
        "model.to(device)"
      ],
      "metadata": {
        "colab": {
          "base_uri": "https://localhost:8080/"
        },
        "id": "NVLPCI-ewRAC",
        "outputId": "588d2366-137a-48b4-b39d-92c42763db99"
      },
      "execution_count": 7,
      "outputs": [
        {
          "output_type": "execute_result",
          "data": {
            "text/plain": [
              "MLP(\n",
              "  (layers): Sequential(\n",
              "    (0): Linear(in_features=3, out_features=64, bias=True)\n",
              "    (1): ReLU()\n",
              "    (2): Linear(in_features=64, out_features=3, bias=True)\n",
              "  )\n",
              ")"
            ]
          },
          "metadata": {},
          "execution_count": 7
        }
      ]
    },
    {
      "cell_type": "code",
      "source": [
        "### Training function\n",
        "def train_epoch(model, device, dataloader, loss_fn, optimizer):\n",
        "    model.train()\n",
        "    train_loss = []\n",
        "    for data,label in dataloader: \n",
        "        img = data\n",
        "        img = img.to(device)\n",
        "        # print(img.shape)\n",
        "        label = label.to(device)\n",
        "        out_label = model(img)\n",
        "        loss = loss_fn(out_label, label)\n",
        "        optimizer.zero_grad()\n",
        "        loss.backward()\n",
        "        optimizer.step()\n",
        "        train_loss.append(loss.detach().cpu().numpy())\n",
        "\n",
        "    return np.mean(train_loss)"
      ],
      "metadata": {
        "id": "YyIYWOMdwUJF"
      },
      "execution_count": 8,
      "outputs": []
    },
    {
      "cell_type": "code",
      "source": [
        "### Valid function\n",
        "def valid_epoch(model, device, dataloader, loss_fn):\n",
        "    model.eval()\n",
        "    with torch.no_grad(): \n",
        "        list_decoded_img = []\n",
        "        list_img = []\n",
        "        for  data, label in dataloader:\n",
        "            img = data\n",
        "            img = img.to(device)\n",
        "            label = label.to(device)\n",
        "            out_label = model(img)\n",
        "            list_decoded_img.append(out_label.cpu())\n",
        "            list_img.append(label.cpu())\n",
        "        list_decoded_img = torch.cat(list_decoded_img)\n",
        "        list_img = torch.cat(list_img) \n",
        "        val_loss = loss_fn(list_decoded_img, list_img)\n",
        "    return val_loss.data"
      ],
      "metadata": {
        "id": "beJWujIxwYdR"
      },
      "execution_count": 9,
      "outputs": []
    },
    {
      "cell_type": "code",
      "source": [
        "diz_loss = {'train_loss':[],'val_loss':[]}\n",
        "for epoch in range(num_epochs):\n",
        "  # print (epoch)\n",
        "  train_loss = train_epoch(model,device,train_loader,loss_fn,optim)\n",
        "  val_loss = valid_epoch(model,device,valid_loader,loss_fn)\n",
        "  print('EPOCH {}/{} \\t train loss {} \\t val loss {}'.format(epoch + 1, num_epochs,train_loss,val_loss))\n",
        "  diz_loss['train_loss'].append(train_loss)\n",
        "  diz_loss['val_loss'].append(val_loss)\n"
      ],
      "metadata": {
        "colab": {
          "base_uri": "https://localhost:8080/"
        },
        "id": "EWz_69w1wlPm",
        "outputId": "575a2423-0c87-4fe2-8534-8ac418a26921"
      },
      "execution_count": 10,
      "outputs": [
        {
          "output_type": "stream",
          "name": "stdout",
          "text": [
            "EPOCH 1/200 \t train loss 0.2475612610578537 \t val loss 0.023414574563503265\n",
            "EPOCH 2/200 \t train loss 0.02140483446419239 \t val loss 0.022697119042277336\n",
            "EPOCH 3/200 \t train loss 0.0214478000998497 \t val loss 0.02237066999077797\n",
            "EPOCH 4/200 \t train loss 0.02121158130466938 \t val loss 0.0226061400026083\n",
            "EPOCH 5/200 \t train loss 0.02099301479756832 \t val loss 0.021912340074777603\n",
            "EPOCH 6/200 \t train loss 0.02101973257958889 \t val loss 0.022161366418004036\n",
            "EPOCH 7/200 \t train loss 0.020983025431632996 \t val loss 0.021872656419873238\n",
            "EPOCH 8/200 \t train loss 0.02086811512708664 \t val loss 0.022058067843317986\n",
            "EPOCH 9/200 \t train loss 0.020710304379463196 \t val loss 0.022058844566345215\n",
            "EPOCH 10/200 \t train loss 0.020645396783947945 \t val loss 0.022194629535079002\n",
            "EPOCH 11/200 \t train loss 0.02058938890695572 \t val loss 0.02145245485007763\n",
            "EPOCH 12/200 \t train loss 0.020520107820630074 \t val loss 0.021442070603370667\n",
            "EPOCH 13/200 \t train loss 0.02059631049633026 \t val loss 0.021464034914970398\n",
            "EPOCH 14/200 \t train loss 0.020601248368620872 \t val loss 0.02143849804997444\n",
            "EPOCH 15/200 \t train loss 0.020471572875976562 \t val loss 0.021259674802422523\n",
            "EPOCH 16/200 \t train loss 0.020192503929138184 \t val loss 0.021045178174972534\n",
            "EPOCH 17/200 \t train loss 0.020195599645376205 \t val loss 0.021187391132116318\n",
            "EPOCH 18/200 \t train loss 0.020456211641430855 \t val loss 0.021223286166787148\n",
            "EPOCH 19/200 \t train loss 0.02055829018354416 \t val loss 0.020868003368377686\n",
            "EPOCH 20/200 \t train loss 0.020249085500836372 \t val loss 0.020903728902339935\n",
            "EPOCH 21/200 \t train loss 0.02000775747001171 \t val loss 0.02154148928821087\n",
            "EPOCH 22/200 \t train loss 0.0200540442019701 \t val loss 0.021762315183877945\n",
            "EPOCH 23/200 \t train loss 0.020324861630797386 \t val loss 0.020675618201494217\n",
            "EPOCH 24/200 \t train loss 0.01993277482688427 \t val loss 0.02035871520638466\n",
            "EPOCH 25/200 \t train loss 0.01984960027039051 \t val loss 0.0206555537879467\n",
            "EPOCH 26/200 \t train loss 0.019651951268315315 \t val loss 0.021028609946370125\n",
            "EPOCH 27/200 \t train loss 0.019703978672623634 \t val loss 0.02088293433189392\n",
            "EPOCH 28/200 \t train loss 0.01983129419386387 \t val loss 0.020755289122462273\n",
            "EPOCH 29/200 \t train loss 0.019563883543014526 \t val loss 0.02024671994149685\n",
            "EPOCH 30/200 \t train loss 0.019885415211319923 \t val loss 0.02039795182645321\n",
            "EPOCH 31/200 \t train loss 0.019397778436541557 \t val loss 0.020822124555706978\n",
            "EPOCH 32/200 \t train loss 0.019612306728959084 \t val loss 0.020159287378191948\n",
            "EPOCH 33/200 \t train loss 0.019531935453414917 \t val loss 0.02064787782728672\n",
            "EPOCH 34/200 \t train loss 0.019338402897119522 \t val loss 0.020581457763910294\n",
            "EPOCH 35/200 \t train loss 0.01947970688343048 \t val loss 0.019593192264437675\n",
            "EPOCH 36/200 \t train loss 0.019431518390774727 \t val loss 0.020243259146809578\n",
            "EPOCH 37/200 \t train loss 0.01938169077038765 \t val loss 0.01953105442225933\n",
            "EPOCH 38/200 \t train loss 0.019174916669726372 \t val loss 0.01971629075706005\n",
            "EPOCH 39/200 \t train loss 0.019091807305812836 \t val loss 0.019513513892889023\n",
            "EPOCH 40/200 \t train loss 0.019322874024510384 \t val loss 0.019556686282157898\n",
            "EPOCH 41/200 \t train loss 0.019278110936284065 \t val loss 0.019652822986245155\n",
            "EPOCH 42/200 \t train loss 0.018994009122252464 \t val loss 0.01947176270186901\n",
            "EPOCH 43/200 \t train loss 0.018994754180312157 \t val loss 0.020479509606957436\n",
            "EPOCH 44/200 \t train loss 0.019029686227440834 \t val loss 0.019534509629011154\n",
            "EPOCH 45/200 \t train loss 0.01867486909031868 \t val loss 0.019312482327222824\n",
            "EPOCH 46/200 \t train loss 0.018623724579811096 \t val loss 0.019372763112187386\n",
            "EPOCH 47/200 \t train loss 0.0185154527425766 \t val loss 0.019357066601514816\n",
            "EPOCH 48/200 \t train loss 0.01850188337266445 \t val loss 0.019793931394815445\n",
            "EPOCH 49/200 \t train loss 0.01876480132341385 \t val loss 0.019825251772999763\n",
            "EPOCH 50/200 \t train loss 0.018453514203429222 \t val loss 0.01930433139204979\n",
            "EPOCH 51/200 \t train loss 0.018453041091561317 \t val loss 0.01930379681289196\n",
            "EPOCH 52/200 \t train loss 0.01835271343588829 \t val loss 0.01932145282626152\n",
            "EPOCH 53/200 \t train loss 0.018491040915250778 \t val loss 0.018910618498921394\n",
            "EPOCH 54/200 \t train loss 0.01834605634212494 \t val loss 0.018734799697995186\n",
            "EPOCH 55/200 \t train loss 0.018085317686200142 \t val loss 0.018887359648942947\n",
            "EPOCH 56/200 \t train loss 0.018106387928128242 \t val loss 0.01882987469434738\n",
            "EPOCH 57/200 \t train loss 0.018036218360066414 \t val loss 0.01868259347975254\n",
            "EPOCH 58/200 \t train loss 0.017848320305347443 \t val loss 0.018693145364522934\n",
            "EPOCH 59/200 \t train loss 0.017993606626987457 \t val loss 0.018911276012659073\n",
            "EPOCH 60/200 \t train loss 0.01789492927491665 \t val loss 0.01830866001546383\n",
            "EPOCH 61/200 \t train loss 0.01785791479051113 \t val loss 0.01805836707353592\n",
            "EPOCH 62/200 \t train loss 0.01780579797923565 \t val loss 0.01815190352499485\n",
            "EPOCH 63/200 \t train loss 0.017842156812548637 \t val loss 0.01845213770866394\n",
            "EPOCH 64/200 \t train loss 0.017558448016643524 \t val loss 0.018454037606716156\n",
            "EPOCH 65/200 \t train loss 0.01763877272605896 \t val loss 0.017849044874310493\n",
            "EPOCH 66/200 \t train loss 0.017628798261284828 \t val loss 0.018398739397525787\n",
            "EPOCH 67/200 \t train loss 0.017656324431300163 \t val loss 0.018905026838183403\n",
            "EPOCH 68/200 \t train loss 0.017445078119635582 \t val loss 0.018634120002388954\n",
            "EPOCH 69/200 \t train loss 0.017671408131718636 \t val loss 0.018136529251933098\n",
            "EPOCH 70/200 \t train loss 0.017435604706406593 \t val loss 0.018551580607891083\n",
            "EPOCH 71/200 \t train loss 0.01762259751558304 \t val loss 0.017717929556965828\n",
            "EPOCH 72/200 \t train loss 0.017263593152165413 \t val loss 0.01744936779141426\n",
            "EPOCH 73/200 \t train loss 0.017086325213313103 \t val loss 0.017786428332328796\n",
            "EPOCH 74/200 \t train loss 0.01684228889644146 \t val loss 0.018486440181732178\n",
            "EPOCH 75/200 \t train loss 0.01696225069463253 \t val loss 0.017606934532523155\n",
            "EPOCH 76/200 \t train loss 0.016917474567890167 \t val loss 0.017761996015906334\n",
            "EPOCH 77/200 \t train loss 0.016796231269836426 \t val loss 0.017298555001616478\n",
            "EPOCH 78/200 \t train loss 0.016884595155715942 \t val loss 0.01838153414428234\n",
            "EPOCH 79/200 \t train loss 0.01677636057138443 \t val loss 0.017409298568964005\n",
            "EPOCH 80/200 \t train loss 0.016889074817299843 \t val loss 0.018134010955691338\n",
            "EPOCH 81/200 \t train loss 0.016676293686032295 \t val loss 0.017123861238360405\n",
            "EPOCH 82/200 \t train loss 0.016612235456705093 \t val loss 0.017732389271259308\n",
            "EPOCH 83/200 \t train loss 0.01643175445497036 \t val loss 0.017439881339669228\n",
            "EPOCH 84/200 \t train loss 0.01662725768983364 \t val loss 0.017153361812233925\n",
            "EPOCH 85/200 \t train loss 0.016376953572034836 \t val loss 0.017005115747451782\n",
            "EPOCH 86/200 \t train loss 0.016379080712795258 \t val loss 0.01740816794335842\n",
            "EPOCH 87/200 \t train loss 0.016387328505516052 \t val loss 0.016962051391601562\n",
            "EPOCH 88/200 \t train loss 0.01614757627248764 \t val loss 0.017910506576299667\n",
            "EPOCH 89/200 \t train loss 0.016456155106425285 \t val loss 0.017056338489055634\n",
            "EPOCH 90/200 \t train loss 0.016149597242474556 \t val loss 0.017501123249530792\n",
            "EPOCH 91/200 \t train loss 0.016265230253338814 \t val loss 0.016743799671530724\n",
            "EPOCH 92/200 \t train loss 0.016197722405195236 \t val loss 0.017986340448260307\n",
            "EPOCH 93/200 \t train loss 0.015975000336766243 \t val loss 0.016764149069786072\n",
            "EPOCH 94/200 \t train loss 0.015964271500706673 \t val loss 0.01608267053961754\n",
            "EPOCH 95/200 \t train loss 0.015936842188239098 \t val loss 0.016326822340488434\n",
            "EPOCH 96/200 \t train loss 0.015775233507156372 \t val loss 0.017490141093730927\n",
            "EPOCH 97/200 \t train loss 0.015976736322045326 \t val loss 0.01632082648575306\n",
            "EPOCH 98/200 \t train loss 0.015910020098090172 \t val loss 0.017390742897987366\n",
            "EPOCH 99/200 \t train loss 0.015999846160411835 \t val loss 0.017939766868948936\n",
            "EPOCH 100/200 \t train loss 0.01565338857471943 \t val loss 0.016758156940340996\n",
            "EPOCH 101/200 \t train loss 0.01574947126209736 \t val loss 0.016292860731482506\n",
            "EPOCH 102/200 \t train loss 0.015535158105194569 \t val loss 0.0160549134016037\n",
            "EPOCH 103/200 \t train loss 0.015783851966261864 \t val loss 0.01619909144937992\n",
            "EPOCH 104/200 \t train loss 0.015583604574203491 \t val loss 0.01664789207279682\n",
            "EPOCH 105/200 \t train loss 0.015612978488206863 \t val loss 0.016068296507000923\n",
            "EPOCH 106/200 \t train loss 0.015706343576312065 \t val loss 0.01635870523750782\n",
            "EPOCH 107/200 \t train loss 0.015424303710460663 \t val loss 0.01655670255422592\n",
            "EPOCH 108/200 \t train loss 0.015409025363624096 \t val loss 0.015781283378601074\n",
            "EPOCH 109/200 \t train loss 0.015563632361590862 \t val loss 0.016012927517294884\n",
            "EPOCH 110/200 \t train loss 0.015423387289047241 \t val loss 0.01592301018536091\n",
            "EPOCH 111/200 \t train loss 0.01519294735044241 \t val loss 0.015610460191965103\n",
            "EPOCH 112/200 \t train loss 0.015305377542972565 \t val loss 0.016708003357052803\n",
            "EPOCH 113/200 \t train loss 0.015270697884261608 \t val loss 0.016285425052046776\n",
            "EPOCH 114/200 \t train loss 0.015440724790096283 \t val loss 0.015621277503669262\n",
            "EPOCH 115/200 \t train loss 0.015269498340785503 \t val loss 0.016071880236268044\n",
            "EPOCH 116/200 \t train loss 0.01530230138450861 \t val loss 0.016474826261401176\n",
            "EPOCH 117/200 \t train loss 0.014990289695560932 \t val loss 0.017396019771695137\n",
            "EPOCH 118/200 \t train loss 0.015209425240755081 \t val loss 0.017410391941666603\n",
            "EPOCH 119/200 \t train loss 0.015168438665568829 \t val loss 0.0158766470849514\n",
            "EPOCH 120/200 \t train loss 0.015092220157384872 \t val loss 0.015397721901535988\n",
            "EPOCH 121/200 \t train loss 0.015198380686342716 \t val loss 0.016273969784379005\n",
            "EPOCH 122/200 \t train loss 0.015294372104108334 \t val loss 0.015797443687915802\n",
            "EPOCH 123/200 \t train loss 0.015141461975872517 \t val loss 0.015360786579549313\n",
            "EPOCH 124/200 \t train loss 0.014846719801425934 \t val loss 0.015630945563316345\n",
            "EPOCH 125/200 \t train loss 0.014875057153403759 \t val loss 0.017387522384524345\n",
            "EPOCH 126/200 \t train loss 0.015003216452896595 \t val loss 0.015526628121733665\n",
            "EPOCH 127/200 \t train loss 0.014833778142929077 \t val loss 0.01552037987858057\n",
            "EPOCH 128/200 \t train loss 0.014930984936654568 \t val loss 0.015396634116768837\n",
            "EPOCH 129/200 \t train loss 0.014877487905323505 \t val loss 0.015600248239934444\n",
            "EPOCH 130/200 \t train loss 0.014968860894441605 \t val loss 0.015608340501785278\n",
            "EPOCH 131/200 \t train loss 0.014943458139896393 \t val loss 0.015152901411056519\n",
            "EPOCH 132/200 \t train loss 0.014768451452255249 \t val loss 0.015728779137134552\n",
            "EPOCH 133/200 \t train loss 0.014770385809242725 \t val loss 0.015762902796268463\n",
            "EPOCH 134/200 \t train loss 0.014874559827148914 \t val loss 0.016569945961236954\n",
            "EPOCH 135/200 \t train loss 0.014773688279092312 \t val loss 0.01584678143262863\n",
            "EPOCH 136/200 \t train loss 0.014583297073841095 \t val loss 0.015355829149484634\n",
            "EPOCH 137/200 \t train loss 0.014816612005233765 \t val loss 0.014927549287676811\n",
            "EPOCH 138/200 \t train loss 0.014708536677062511 \t val loss 0.01499707531183958\n",
            "EPOCH 139/200 \t train loss 0.014684365130960941 \t val loss 0.016098039224743843\n",
            "EPOCH 140/200 \t train loss 0.015135034918785095 \t val loss 0.015206022188067436\n",
            "EPOCH 141/200 \t train loss 0.014942053705453873 \t val loss 0.015323033556342125\n",
            "EPOCH 142/200 \t train loss 0.014752197079360485 \t val loss 0.01497423741966486\n",
            "EPOCH 143/200 \t train loss 0.014674094505608082 \t val loss 0.015294396318495274\n",
            "EPOCH 144/200 \t train loss 0.014501656405627728 \t val loss 0.01506521925330162\n",
            "EPOCH 145/200 \t train loss 0.014461311511695385 \t val loss 0.015615586191415787\n",
            "EPOCH 146/200 \t train loss 0.014577214606106281 \t val loss 0.015522226691246033\n",
            "EPOCH 147/200 \t train loss 0.014496423304080963 \t val loss 0.015808001160621643\n",
            "EPOCH 148/200 \t train loss 0.01451562624424696 \t val loss 0.015072441659867764\n",
            "EPOCH 149/200 \t train loss 0.014319531619548798 \t val loss 0.014801476150751114\n",
            "EPOCH 150/200 \t train loss 0.014432334341108799 \t val loss 0.014591092243790627\n",
            "EPOCH 151/200 \t train loss 0.014551377855241299 \t val loss 0.015127531252801418\n",
            "EPOCH 152/200 \t train loss 0.014427793212234974 \t val loss 0.015682470053434372\n",
            "EPOCH 153/200 \t train loss 0.014447301626205444 \t val loss 0.014713622629642487\n",
            "EPOCH 154/200 \t train loss 0.014328020624816418 \t val loss 0.014915546402335167\n",
            "EPOCH 155/200 \t train loss 0.014680512249469757 \t val loss 0.014814993366599083\n",
            "EPOCH 156/200 \t train loss 0.014362049289047718 \t val loss 0.014730352908372879\n",
            "EPOCH 157/200 \t train loss 0.014367739669978619 \t val loss 0.015142879448831081\n",
            "EPOCH 158/200 \t train loss 0.014417372643947601 \t val loss 0.015115366317331791\n",
            "EPOCH 159/200 \t train loss 0.014175350777804852 \t val loss 0.014752145856618881\n",
            "EPOCH 160/200 \t train loss 0.014491048641502857 \t val loss 0.01634637452661991\n",
            "EPOCH 161/200 \t train loss 0.014598093926906586 \t val loss 0.014673274010419846\n",
            "EPOCH 162/200 \t train loss 0.014208401553332806 \t val loss 0.014694496057927608\n",
            "EPOCH 163/200 \t train loss 0.014187133871018887 \t val loss 0.01460933592170477\n",
            "EPOCH 164/200 \t train loss 0.014165566302835941 \t val loss 0.01500841323286295\n",
            "EPOCH 165/200 \t train loss 0.014248151332139969 \t val loss 0.014872374013066292\n",
            "EPOCH 166/200 \t train loss 0.014244462363421917 \t val loss 0.014431845396757126\n",
            "EPOCH 167/200 \t train loss 0.014144712127745152 \t val loss 0.014652283862233162\n",
            "EPOCH 168/200 \t train loss 0.01421839278191328 \t val loss 0.014954863116145134\n",
            "EPOCH 169/200 \t train loss 0.014155860058963299 \t val loss 0.01526916678994894\n",
            "EPOCH 170/200 \t train loss 0.01414938922971487 \t val loss 0.015106714330613613\n",
            "EPOCH 171/200 \t train loss 0.014074201695621014 \t val loss 0.01486535370349884\n",
            "EPOCH 172/200 \t train loss 0.01418982446193695 \t val loss 0.014961345121264458\n",
            "EPOCH 173/200 \t train loss 0.014181370846927166 \t val loss 0.015559922903776169\n",
            "EPOCH 174/200 \t train loss 0.01420663669705391 \t val loss 0.014730882830917835\n",
            "EPOCH 175/200 \t train loss 0.014427375979721546 \t val loss 0.014783317223191261\n",
            "EPOCH 176/200 \t train loss 0.014248195104300976 \t val loss 0.016402507200837135\n",
            "EPOCH 177/200 \t train loss 0.014282136224210262 \t val loss 0.015083424746990204\n",
            "EPOCH 178/200 \t train loss 0.014040988869965076 \t val loss 0.01452141534537077\n",
            "EPOCH 179/200 \t train loss 0.014323768205940723 \t val loss 0.014717180281877518\n",
            "EPOCH 180/200 \t train loss 0.014279776252806187 \t val loss 0.015110225416719913\n",
            "EPOCH 181/200 \t train loss 0.014245361089706421 \t val loss 0.014786704443395138\n",
            "EPOCH 182/200 \t train loss 0.014075797982513905 \t val loss 0.01498905848711729\n",
            "EPOCH 183/200 \t train loss 0.014089193195104599 \t val loss 0.015171803534030914\n",
            "EPOCH 184/200 \t train loss 0.014112315140664577 \t val loss 0.01490524597465992\n",
            "EPOCH 185/200 \t train loss 0.014208369888365269 \t val loss 0.015185699798166752\n",
            "EPOCH 186/200 \t train loss 0.01419567596167326 \t val loss 0.014756226912140846\n",
            "EPOCH 187/200 \t train loss 0.014191273599863052 \t val loss 0.014679078944027424\n",
            "EPOCH 188/200 \t train loss 0.01393610704690218 \t val loss 0.015269157476723194\n",
            "EPOCH 189/200 \t train loss 0.014144465327262878 \t val loss 0.014527090825140476\n",
            "EPOCH 190/200 \t train loss 0.014066021889448166 \t val loss 0.014465345069766045\n",
            "EPOCH 191/200 \t train loss 0.014181951992213726 \t val loss 0.014942440204322338\n",
            "EPOCH 192/200 \t train loss 0.013977263122797012 \t val loss 0.015393754467368126\n",
            "EPOCH 193/200 \t train loss 0.014109785668551922 \t val loss 0.014568610116839409\n",
            "EPOCH 194/200 \t train loss 0.01410998310893774 \t val loss 0.015531920827925205\n",
            "EPOCH 195/200 \t train loss 0.014220577664673328 \t val loss 0.015623236075043678\n",
            "EPOCH 196/200 \t train loss 0.014025161974132061 \t val loss 0.014891267754137516\n",
            "EPOCH 197/200 \t train loss 0.01404748484492302 \t val loss 0.014996993355453014\n",
            "EPOCH 198/200 \t train loss 0.013962130062282085 \t val loss 0.015588385052978992\n",
            "EPOCH 199/200 \t train loss 0.0141452020034194 \t val loss 0.014993919990956783\n",
            "EPOCH 200/200 \t train loss 0.013919875025749207 \t val loss 0.015421612188220024\n"
          ]
        }
      ]
    },
    {
      "cell_type": "code",
      "source": [
        "# Plot losses\n",
        "plt.figure(figsize=(10,8))\n",
        "plt.semilogy(diz_loss['train_loss'], label='Train')\n",
        "plt.semilogy(diz_loss['val_loss'], label='Valid')\n",
        "plt.xlabel('Epoch')\n",
        "plt.ylabel('Average Loss')\n",
        "#plt.grid()\n",
        "plt.legend()\n",
        "#plt.title('loss')\n",
        "plt.show()"
      ],
      "metadata": {
        "colab": {
          "base_uri": "https://localhost:8080/",
          "height": 497
        },
        "id": "wU-yJJqoynUZ",
        "outputId": "a841b35d-fcaf-4856-b2ac-2aefb29180ae"
      },
      "execution_count": 11,
      "outputs": [
        {
          "output_type": "display_data",
          "data": {
            "text/plain": [
              "<Figure size 720x576 with 1 Axes>"
            ],
            "image/png": "[encoded data removed]"
          },
          "metadata": {
            "needs_background": "light"
          }
        }
      ]
    },
    {
      "cell_type": "code",
      "source": [
        "out_samples = []\n",
        "for sample in test_dataset:\n",
        "    img = sample[0]\n",
        "    img = img.to(device) \n",
        "    label_val = sample[1]\n",
        "    # print(label_val.shape)\n",
        "    model.eval()\n",
        "    with torch.no_grad():\n",
        "        out_label  = model(img)\n",
        "    out_label = out_label.cpu().numpy()\n",
        "    # print(enumerate(encoded_img))\n",
        "    out_sample = {f\"pred_label{i}\": enc for i, enc in enumerate(out_label)}\n",
        "    for i in range(nl):\n",
        "      label_index = 'label'+str(i)\n",
        "      out_sample[label_index] = label_val[i].numpy()\n",
        "    # encoded_sample['label1'] = label[1].numpy()\n",
        "    # encoded_sample['label2'] = label[2].numpy()\n",
        "    # encoded_sample['label3'] = label[3].numpy()\n",
        "    out_samples.append(out_sample)\n",
        "df_out_samples = pd.DataFrame(out_samples)\n",
        "df_out_samples\n",
        "\n"
      ],
      "metadata": {
        "colab": {
          "base_uri": "https://localhost:8080/",
          "height": 424
        },
        "id": "INPWUJYi00VT",
        "outputId": "6ede627f-5ad7-475f-e1e5-90ef0fe564fe"
      },
      "execution_count": 13,
      "outputs": [
        {
          "output_type": "execute_result",
          "data": {
            "text/plain": [
              "     pred_label0  pred_label1  pred_label2  label0  label1    label2\n",
              "0       0.143382    -0.201964    -0.442402   0.185  -0.412  -0.58489\n",
              "1       0.172345     0.399449    -0.242651   0.174   0.353  -0.54426\n",
              "2       0.156411     0.368039     0.386860   0.122  0.0998   0.30727\n",
              "3       0.076713    -0.198292     0.423570  0.0859  -0.507   0.55057\n",
              "4       0.075285     0.353928     0.357979  0.0568   0.277   0.17738\n",
              "..           ...          ...          ...     ...     ...       ...\n",
              "590     0.172912     0.440673    -0.228587   0.193   0.591  -0.44723\n",
              "591     0.171676     0.318142    -0.268055   0.179   0.249  -0.50584\n",
              "592     0.091653    -0.310472    -0.345961  0.0866  -0.201  -0.20922\n",
              "593     0.173148     0.528364    -0.202398   0.182   0.589   -0.5938\n",
              "594     0.155633    -0.217976     0.370509   0.179  -0.419   0.43766\n",
              "\n",
              "[595 rows x 6 columns]"
            ],
            "text/html": [
              "\n",
              "  <div id=\"df-2a98829a-8dde-4283-b557-dcf929dfc59d\">\n",
              "    <div class=\"colab-df-container\">\n",
              "      <div>\n",
              "<style scoped>\n",
              "    .dataframe tbody tr th:only-of-type {\n",
              "        vertical-align: middle;\n",
              "    }\n",
              "\n",
              "    .dataframe tbody tr th {\n",
              "        vertical-align: top;\n",
              "    }\n",
              "\n",
              "    .dataframe thead th {\n",
              "        text-align: right;\n",
              "    }\n",
              "</style>\n",
              "<table border=\"1\" class=\"dataframe\">\n",
              "  <thead>\n",
              "    <tr style=\"text-align: right;\">\n",
              "      <th></th>\n",
              "      <th>pred_label0</th>\n",
              "      <th>pred_label1</th>\n",
              "      <th>pred_label2</th>\n",
              "      <th>label0</th>\n",
              "      <th>label1</th>\n",
              "      <th>label2</th>\n",
              "    </tr>\n",
              "  </thead>\n",
              "  <tbody>\n",
              "    <tr>\n",
              "      <th>0</th>\n",
              "      <td>0.143382</td>\n",
              "      <td>-0.201964</td>\n",
              "      <td>-0.442402</td>\n",
              "      <td>0.185</td>\n",
              "      <td>-0.412</td>\n",
              "      <td>-0.58489</td>\n",
              "    </tr>\n",
              "    <tr>\n",
              "      <th>1</th>\n",
              "      <td>0.172345</td>\n",
              "      <td>0.399449</td>\n",
              "      <td>-0.242651</td>\n",
              "      <td>0.174</td>\n",
              "      <td>0.353</td>\n",
              "      <td>-0.54426</td>\n",
              "    </tr>\n",
              "    <tr>\n",
              "      <th>2</th>\n",
              "      <td>0.156411</td>\n",
              "      <td>0.368039</td>\n",
              "      <td>0.386860</td>\n",
              "      <td>0.122</td>\n",
              "      <td>0.0998</td>\n",
              "      <td>0.30727</td>\n",
              "    </tr>\n",
              "    <tr>\n",
              "      <th>3</th>\n",
              "      <td>0.076713</td>\n",
              "      <td>-0.198292</td>\n",
              "      <td>0.423570</td>\n",
              "      <td>0.0859</td>\n",
              "      <td>-0.507</td>\n",
              "      <td>0.55057</td>\n",
              "    </tr>\n",
              "    <tr>\n",
              "      <th>4</th>\n",
              "      <td>0.075285</td>\n",
              "      <td>0.353928</td>\n",
              "      <td>0.357979</td>\n",
              "      <td>0.0568</td>\n",
              "      <td>0.277</td>\n",
              "      <td>0.17738</td>\n",
              "    </tr>\n",
              "    <tr>\n",
              "      <th>...</th>\n",
              "      <td>...</td>\n",
              "      <td>...</td>\n",
              "      <td>...</td>\n",
              "      <td>...</td>\n",
              "      <td>...</td>\n",
              "      <td>...</td>\n",
              "    </tr>\n",
              "    <tr>\n",
              "      <th>590</th>\n",
              "      <td>0.172912</td>\n",
              "      <td>0.440673</td>\n",
              "      <td>-0.228587</td>\n",
              "      <td>0.193</td>\n",
              "      <td>0.591</td>\n",
              "      <td>-0.44723</td>\n",
              "    </tr>\n",
              "    <tr>\n",
              "      <th>591</th>\n",
              "      <td>0.171676</td>\n",
              "      <td>0.318142</td>\n",
              "      <td>-0.268055</td>\n",
              "      <td>0.179</td>\n",
              "      <td>0.249</td>\n",
              "      <td>-0.50584</td>\n",
              "    </tr>\n",
              "    <tr>\n",
              "      <th>592</th>\n",
              "      <td>0.091653</td>\n",
              "      <td>-0.310472</td>\n",
              "      <td>-0.345961</td>\n",
              "      <td>0.0866</td>\n",
              "      <td>-0.201</td>\n",
              "      <td>-0.20922</td>\n",
              "    </tr>\n",
              "    <tr>\n",
              "      <th>593</th>\n",
              "      <td>0.173148</td>\n",
              "      <td>0.528364</td>\n",
              "      <td>-0.202398</td>\n",
              "      <td>0.182</td>\n",
              "      <td>0.589</td>\n",
              "      <td>-0.5938</td>\n",
              "    </tr>\n",
              "    <tr>\n",
              "      <th>594</th>\n",
              "      <td>0.155633</td>\n",
              "      <td>-0.217976</td>\n",
              "      <td>0.370509</td>\n",
              "      <td>0.179</td>\n",
              "      <td>-0.419</td>\n",
              "      <td>0.43766</td>\n",
              "    </tr>\n",
              "  </tbody>\n",
              "</table>\n",
              "<p>595 rows × 6 columns</p>\n",
              "</div>\n",
              "      <button class=\"colab-df-convert\" onclick=\"convertToInteractive('df-2a98829a-8dde-4283-b557-dcf929dfc59d')\"\n",
              "              title=\"Convert this dataframe to an interactive table.\"\n",
              "              style=\"display:none;\">\n",
              "        \n",
              "  <svg xmlns=\"http://www.w3.org/2000/svg\" height=\"24px\"viewBox=\"0 0 24 24\"\n",
              "       width=\"24px\">\n",
              "    <path d=\"M0 0h24v24H0V0z\" fill=\"none\"/>\n",
              "    <path d=\"M18.56 5.44l.94 2.06.94-2.06 2.06-.94-2.06-.94-.94-2.06-.94 2.06-2.06.94zm-11 1L8.5 8.5l.94-2.06 2.06-.94-2.06-.94L8.5 2.5l-.94 2.06-2.06.94zm10 10l.94 2.06.94-2.06 2.06-.94-2.06-.94-.94-2.06-.94 2.06-2.06.94z\"/><path d=\"M17.41 7.96l-1.37-1.37c-.4-.4-.92-.59-1.43-.59-.52 0-1.04.2-1.43.59L10.3 9.45l-7.72 7.72c-.78.78-.78 2.05 0 2.83L4 21.41c.39.39.9.59 1.41.59.51 0 1.02-.2 1.41-.59l7.78-7.78 2.81-2.81c.8-.78.8-2.07 0-2.86zM5.41 20L4 18.59l7.72-7.72 1.47 1.35L5.41 20z\"/>\n",
              "  </svg>\n",
              "      </button>\n",
              "      \n",
              "  <style>\n",
              "    .colab-df-container {\n",
              "      display:flex;\n",
              "      flex-wrap:wrap;\n",
              "      gap: 12px;\n",
              "    }\n",
              "\n",
              "    .colab-df-convert {\n",
              "      background-color: #E8F0FE;\n",
              "      border: none;\n",
              "      border-radius: 50%;\n",
              "      cursor: pointer;\n",
              "      display: none;\n",
              "      fill: #1967D2;\n",
              "      height: 32px;\n",
              "      padding: 0 0 0 0;\n",
              "      width: 32px;\n",
              "    }\n",
              "\n",
              "    .colab-df-convert:hover {\n",
              "      background-color: #E2EBFA;\n",
              "      box-shadow: 0px 1px 2px rgba(60, 64, 67, 0.3), 0px 1px 3px 1px rgba(60, 64, 67, 0.15);\n",
              "      fill: #174EA6;\n",
              "    }\n",
              "\n",
              "    [theme=dark] .colab-df-convert {\n",
              "      background-color: #3B4455;\n",
              "      fill: #D2E3FC;\n",
              "    }\n",
              "\n",
              "    [theme=dark] .colab-df-convert:hover {\n",
              "      background-color: #434B5C;\n",
              "      box-shadow: 0px 1px 3px 1px rgba(0, 0, 0, 0.15);\n",
              "      filter: drop-shadow(0px 1px 2px rgba(0, 0, 0, 0.3));\n",
              "      fill: #FFFFFF;\n",
              "    }\n",
              "  </style>\n",
              "\n",
              "      <script>\n",
              "        const buttonEl =\n",
              "          document.querySelector('#df-2a98829a-8dde-4283-b557-dcf929dfc59d button.colab-df-convert');\n",
              "        buttonEl.style.display =\n",
              "          google.colab.kernel.accessAllowed ? 'block' : 'none';\n",
              "\n",
              "        async function convertToInteractive(key) {\n",
              "          const element = document.querySelector('#df-2a98829a-8dde-4283-b557-dcf929dfc59d');\n",
              "          const dataTable =\n",
              "            await google.colab.kernel.invokeFunction('convertToInteractive',\n",
              "                                                     [key], {});\n",
              "          if (!dataTable) return;\n",
              "\n",
              "          const docLinkHtml = 'Like what you see? Visit the ' +\n",
              "            '<a target=\"_blank\" href=https://colab.research.google.com/notebooks/data_table.ipynb>data table notebook</a>'\n",
              "            + ' to learn more about interactive tables.';\n",
              "          element.innerHTML = '';\n",
              "          dataTable['output_type'] = 'display_data';\n",
              "          await google.colab.output.renderOutput(dataTable, element);\n",
              "          const docLink = document.createElement('div');\n",
              "          docLink.innerHTML = docLinkHtml;\n",
              "          element.appendChild(docLink);\n",
              "        }\n",
              "      </script>\n",
              "    </div>\n",
              "  </div>\n",
              "  "
            ]
          },
          "metadata": {},
          "execution_count": 13
        }
      ]
    },
    {
      "cell_type": "code",
      "source": [
        "df_out_samples.plot(x ='label0', y='pred_label0', kind = 'scatter')\n",
        "plt.show()"
      ],
      "metadata": {
        "colab": {
          "base_uri": "https://localhost:8080/",
          "height": 282
        },
        "id": "Aw0Y6Rd0ETIC",
        "outputId": "86adab9f-1059-4602-9bbf-d0f2215a5018"
      },
      "execution_count": 14,
      "outputs": [
        {
          "output_type": "display_data",
          "data": {
            "text/plain": [
              "<Figure size 432x288 with 1 Axes>"
            ],
            "image/png": "[encoded data removed]"
          },
          "metadata": {
            "needs_background": "light"
          }
        }
      ]
    },
    {
      "cell_type": "code",
      "source": [
        "df_out_samples.plot(x ='label1', y='pred_label1', kind = 'scatter')\n",
        "plt.show()"
      ],
      "metadata": {
        "colab": {
          "base_uri": "https://localhost:8080/",
          "height": 279
        },
        "id": "8GiU99aaEl78",
        "outputId": "5e8f8bd2-4244-4cb6-b7cb-7f511703943d"
      },
      "execution_count": 15,
      "outputs": [
        {
          "output_type": "display_data",
          "data": {
            "text/plain": [
              "<Figure size 432x288 with 1 Axes>"
            ],
            "image/png": "[encoded data removed]"
          },
          "metadata": {
            "needs_background": "light"
          }
        }
      ]
    },
    {
      "cell_type": "code",
      "source": [
        "df_out_samples.plot(x ='label2', y='pred_label2', kind = 'scatter')\n",
        "plt.show()"
      ],
      "metadata": {
        "colab": {
          "base_uri": "https://localhost:8080/",
          "height": 281
        },
        "id": "EQrsYOQXEx8S",
        "outputId": "ec4a6c45-cdee-40b0-ca93-1220616c463d"
      },
      "execution_count": 16,
      "outputs": [
        {
          "output_type": "display_data",
          "data": {
            "text/plain": [
              "<Figure size 432x288 with 1 Axes>"
            ],
            "image/png": "[encoded data removed]"
          },
          "metadata": {
            "needs_background": "light"
          }
        }
      ]
    }
  ]
}