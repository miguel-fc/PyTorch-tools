{
  "nbformat": 4,
  "nbformat_minor": 0,
  "metadata": {
    "colab": {
      "name": "mlp-nr-v0-ipynb",
      "provenance": [],
      "collapsed_sections": [],
      "authorship_tag": "ABX9TyNBL/R/h+bt574gv2ovWFvd",
      "include_colab_link": true
    },
    "kernelspec": {
      "name": "python3",
      "display_name": "Python 3"
    },
    "language_info": {
      "name": "python"
    }
  },
  "cells": [
    {
      "cell_type": "markdown",
      "metadata": {
        "id": "view-in-github",
        "colab_type": "text"
      },
      "source": [
        "<a href=\"https://colab.research.google.com/github/miguel-fc/PyTorch-tools/blob/main/mlp_nr_v0_ipynb.ipynb\" target=\"_parent\"><img src=\"https://colab.research.google.com/assets/colab-badge.svg\" alt=\"Open In Colab\"/></a>"
      ]
    },
    {
      "cell_type": "code",
      "source": [
        "# Import Python related required packages\n",
        "import io\n",
        "import cv2\n",
        "import gdown\n",
        "import numpy as np\n",
        "import matplotlib\n",
        "import matplotlib.pyplot as plt\n",
        "import matplotlib.gridspec as gridspec\n",
        "%matplotlib inline\n",
        "import plotly.express as px\n",
        "from sklearn.metrics import mean_squared_error\n",
        "from scipy.stats import gaussian_kde, norm\n",
        "from sklearn.model_selection import train_test_split, GridSearchCV\n",
        "from sklearn.ensemble import RandomForestRegressor\n",
        "from sklearn.manifold import TSNE\n",
        "from sklearn.metrics import mean_squared_error\n",
        "import pandas as pd\n",
        "from tqdm import tqdm\n",
        "import pickle\n",
        "\n",
        "#Import torch related packages\n",
        "import torch\n",
        "import torchvision\n",
        "from torchvision import transforms\n",
        "from torch.utils.data import DataLoader,random_split, Dataset, TensorDataset\n",
        "from torch import nn\n",
        "import torch.nn.functional as F\n",
        "import torch.optim as optim"
      ],
      "metadata": {
        "id": "py3Go418uvzR"
      },
      "execution_count": null,
      "outputs": []
    },
    {
      "cell_type": "code",
      "source": [
        "#Set these important parameters\n",
        "#Dimension of the latent space \n",
        "d = 3\n",
        "#Number of labels\n",
        "nl = 3\n",
        "#Number of epochs\n",
        "num_epochs = 200"
      ],
      "metadata": {
        "id": "tCtk6FOxvOjU"
      },
      "execution_count": null,
      "outputs": []
    },
    {
      "cell_type": "code",
      "source": [
        "#Download dataloaders containing training, validation and test data for the MLP\n",
        "!gdown \"https://drive.google.com/uc?id=1zJPzEDRsqtJWtKKnaLAweNs2O2D3banH\"\n",
        "!gdown \"https://drive.google.com/uc?id=1-44uc7wce6iyr-6jZqF_KvpyRT1U0E-_\"\n",
        "!gdown \"https://drive.google.com/uc?id=1-0vJiyXciH_dycEwBAYj5pM5TVtTGfYI\"\n",
        "!gdown \"https://drive.google.com/uc?id=11JUoHfBjRzCoWKldR42V3Jp7cbflPZG7\""
      ],
      "metadata": {
        "colab": {
          "base_uri": "https://localhost:8080/"
        },
        "id": "XBq0lCj5vOl8",
        "outputId": "001fd932-1edf-4c62-97cf-9d933b6d70d3"
      },
      "execution_count": null,
      "outputs": [
        {
          "output_type": "stream",
          "name": "stdout",
          "text": [
            "Downloading...\n",
            "From: https://drive.google.com/uc?id=1zJPzEDRsqtJWtKKnaLAweNs2O2D3banH\n",
            "To: /content/mlp_train_loader.pth\n",
            "100% 116k/116k [00:00<00:00, 76.1MB/s]\n",
            "Downloading...\n",
            "From: https://drive.google.com/uc?id=1-44uc7wce6iyr-6jZqF_KvpyRT1U0E-_\n",
            "To: /content/mlp_valid_loader.pth\n",
            "100% 15.9k/15.9k [00:00<00:00, 34.3MB/s]\n",
            "Downloading...\n",
            "From: https://drive.google.com/uc?id=1-0vJiyXciH_dycEwBAYj5pM5TVtTGfYI\n",
            "To: /content/mlp_test_loader.pth\n",
            "100% 15.9k/15.9k [00:00<00:00, 35.1MB/s]\n",
            "Downloading...\n",
            "From: https://drive.google.com/uc?id=11JUoHfBjRzCoWKldR42V3Jp7cbflPZG7\n",
            "To: /content/mlp_test_dataset.pth\n",
            "100% 15.3k/15.3k [00:00<00:00, 29.8MB/s]\n"
          ]
        }
      ]
    },
    {
      "cell_type": "code",
      "source": [
        "train_loader = torch.load('mlp_train_loader.pth')\n",
        "valid_loader = torch.load('mlp_valid_loader.pth')\n",
        "test_loader = torch.load('mlp_test_loader.pth')\n",
        "\n",
        "test_dataset = torch.load('mlp_test_dataset.pth')"
      ],
      "metadata": {
        "id": "VJUTDhDavOov"
      },
      "execution_count": null,
      "outputs": []
    },
    {
      "cell_type": "code",
      "execution_count": null,
      "metadata": {
        "id": "f9SGJ5ItuSez"
      },
      "outputs": [],
      "source": [
        "#Defining a Multilayer Perceptron, MLP.\n",
        "class MLP(nn.Module):\n",
        "\n",
        "  def __init__(self,dim):\n",
        "    super().__init__()\n",
        "    self.layers = nn.Sequential(\n",
        "      nn.Linear(d, 64),\n",
        "      nn.ReLU(),\n",
        "      nn.Linear(64, nl),\n",
        "      # nn.ReLU(),\n",
        "      # nn.Linear(32, nl),\n",
        "    )\n",
        "\n",
        "  def forward(self, x):\n",
        "    return self.layers(x)"
      ]
    },
    {
      "cell_type": "code",
      "source": [
        "# from torch.optim import optimizer\n",
        "### Define the loss function \n",
        "loss_fn = torch.nn.MSELoss()\n",
        "\n",
        "### Define the learning rate\n",
        "lr= 0.001\n",
        "\n",
        "### Set the random seed for reproducible results\n",
        "torch.manual_seed(0)\n",
        "\n",
        "#model \n",
        "model = MLP(dim=d)\n",
        "params_to_optimize = [\n",
        "    {'params': model.parameters()}\n",
        "]\n",
        "\n",
        "#Define the optimizer\n",
        "optim = torch.optim.Adam(params_to_optimize, lr=lr, weight_decay=1e-05)\n",
        "\n",
        "#Checking the device\n",
        "device = torch.device(\"cuda\") if torch.cuda.is_available() else torch.device(\"cpu\")\n",
        "print(f'Selected device: {device}')\n"
      ],
      "metadata": {
        "colab": {
          "base_uri": "https://localhost:8080/"
        },
        "id": "kVrTyX9Xv6LB",
        "outputId": "8b51e554-854d-4a29-9187-fe30c99de254"
      },
      "execution_count": null,
      "outputs": [
        {
          "output_type": "stream",
          "name": "stdout",
          "text": [
            "Selected device: cpu\n"
          ]
        }
      ]
    },
    {
      "cell_type": "code",
      "source": [
        "# Move model to device\n",
        "model.to(device)"
      ],
      "metadata": {
        "colab": {
          "base_uri": "https://localhost:8080/"
        },
        "id": "NVLPCI-ewRAC",
        "outputId": "37fd28bb-f720-4b4c-dcb7-5d5abf74c490"
      },
      "execution_count": null,
      "outputs": [
        {
          "output_type": "execute_result",
          "data": {
            "text/plain": [
              "MLP(\n",
              "  (layers): Sequential(\n",
              "    (0): Linear(in_features=3, out_features=64, bias=True)\n",
              "    (1): ReLU()\n",
              "    (2): Linear(in_features=64, out_features=3, bias=True)\n",
              "  )\n",
              ")"
            ]
          },
          "metadata": {},
          "execution_count": 8
        }
      ]
    },
    {
      "cell_type": "code",
      "source": [
        "### Training function\n",
        "def train_epoch(model, device, dataloader, loss_fn, optimizer):\n",
        "    model.train()\n",
        "    train_loss = []\n",
        "    for data,label in dataloader: \n",
        "        img = data\n",
        "        img = img.to(device)\n",
        "        # print(img.shape)\n",
        "        label = label.to(device)\n",
        "        out_label = model(img)\n",
        "        loss = loss_fn(out_label, label)\n",
        "        optimizer.zero_grad()\n",
        "        loss.backward()\n",
        "        optimizer.step()\n",
        "        train_loss.append(loss.detach().cpu().numpy())\n",
        "\n",
        "    return np.mean(train_loss)"
      ],
      "metadata": {
        "id": "YyIYWOMdwUJF"
      },
      "execution_count": null,
      "outputs": []
    },
    {
      "cell_type": "code",
      "source": [
        "### Valid function\n",
        "def valid_epoch(model, device, dataloader, loss_fn):\n",
        "    model.eval()\n",
        "    with torch.no_grad(): \n",
        "        list_decoded_img = []\n",
        "        list_img = []\n",
        "        for  data, label in dataloader:\n",
        "            img = data\n",
        "            img = img.to(device)\n",
        "            label = label.to(device)\n",
        "            out_label = model(img)\n",
        "            list_decoded_img.append(out_label.cpu())\n",
        "            list_img.append(label.cpu())\n",
        "        list_decoded_img = torch.cat(list_decoded_img)\n",
        "        list_img = torch.cat(list_img) \n",
        "        val_loss = loss_fn(list_decoded_img, list_img)\n",
        "    return val_loss.data"
      ],
      "metadata": {
        "id": "beJWujIxwYdR"
      },
      "execution_count": null,
      "outputs": []
    },
    {
      "cell_type": "code",
      "source": [
        "diz_loss = {'train_loss':[],'val_loss':[]}\n",
        "for epoch in range(num_epochs):\n",
        "  # print (epoch)\n",
        "  train_loss = train_epoch(model,device,train_loader,loss_fn,optim)\n",
        "  val_loss = valid_epoch(model,device,valid_loader,loss_fn)\n",
        "  print('EPOCH {}/{} \\t train loss {} \\t val loss {}'.format(epoch + 1, num_epochs,train_loss,val_loss))\n",
        "  diz_loss['train_loss'].append(train_loss)\n",
        "  diz_loss['val_loss'].append(val_loss)\n"
      ],
      "metadata": {
        "colab": {
          "base_uri": "https://localhost:8080/"
        },
        "id": "EWz_69w1wlPm",
        "outputId": "e42339d2-01b6-4626-fb36-91eb363c2ab4"
      },
      "execution_count": null,
      "outputs": [
        {
          "output_type": "stream",
          "name": "stdout",
          "text": [
            "EPOCH 1/200 \t train loss 0.2475612610578537 \t val loss 0.023414574563503265\n",
            "EPOCH 2/200 \t train loss 0.02140483818948269 \t val loss 0.022697119042277336\n",
            "EPOCH 3/200 \t train loss 0.02144780196249485 \t val loss 0.02237066999077797\n",
            "EPOCH 4/200 \t train loss 0.02121158130466938 \t val loss 0.02260614186525345\n",
            "EPOCH 5/200 \t train loss 0.02099301479756832 \t val loss 0.021912340074777603\n",
            "EPOCH 6/200 \t train loss 0.02101973257958889 \t val loss 0.022161366418004036\n",
            "EPOCH 7/200 \t train loss 0.020983025431632996 \t val loss 0.021872656419873238\n",
            "EPOCH 8/200 \t train loss 0.02086811326444149 \t val loss 0.022058069705963135\n",
            "EPOCH 9/200 \t train loss 0.020710304379463196 \t val loss 0.022058842703700066\n",
            "EPOCH 10/200 \t train loss 0.020645394921302795 \t val loss 0.02219463139772415\n",
            "EPOCH 11/200 \t train loss 0.020589390769600868 \t val loss 0.02145245298743248\n",
            "EPOCH 12/200 \t train loss 0.02051675319671631 \t val loss 0.0214395709335804\n",
            "EPOCH 13/200 \t train loss 0.02059582807123661 \t val loss 0.021464042365550995\n",
            "EPOCH 14/200 \t train loss 0.02060122787952423 \t val loss 0.021437840536236763\n",
            "EPOCH 15/200 \t train loss 0.02047136425971985 \t val loss 0.021259434521198273\n",
            "EPOCH 16/200 \t train loss 0.020192453637719154 \t val loss 0.021045027300715446\n",
            "EPOCH 17/200 \t train loss 0.02019568532705307 \t val loss 0.02118755504488945\n",
            "EPOCH 18/200 \t train loss 0.02045617066323757 \t val loss 0.021223025396466255\n",
            "EPOCH 19/200 \t train loss 0.020558854565024376 \t val loss 0.020866718143224716\n",
            "EPOCH 20/200 \t train loss 0.020249059423804283 \t val loss 0.020903965458273888\n",
            "EPOCH 21/200 \t train loss 0.020007910206913948 \t val loss 0.021541884168982506\n",
            "EPOCH 22/200 \t train loss 0.02005421370267868 \t val loss 0.021763036027550697\n",
            "EPOCH 23/200 \t train loss 0.020324984565377235 \t val loss 0.02067585475742817\n",
            "EPOCH 24/200 \t train loss 0.019932864233851433 \t val loss 0.02035793475806713\n",
            "EPOCH 25/200 \t train loss 0.019848989322781563 \t val loss 0.020632432773709297\n",
            "EPOCH 26/200 \t train loss 0.019650502130389214 \t val loss 0.0210266150534153\n",
            "EPOCH 27/200 \t train loss 0.01970420591533184 \t val loss 0.0208798348903656\n",
            "EPOCH 28/200 \t train loss 0.019830433651804924 \t val loss 0.020755525678396225\n",
            "EPOCH 29/200 \t train loss 0.019563883543014526 \t val loss 0.020247360691428185\n",
            "EPOCH 30/200 \t train loss 0.019884776324033737 \t val loss 0.02039800025522709\n",
            "EPOCH 31/200 \t train loss 0.019397439435124397 \t val loss 0.020834365859627724\n",
            "EPOCH 32/200 \t train loss 0.019611524417996407 \t val loss 0.02015918679535389\n",
            "EPOCH 33/200 \t train loss 0.01953168399631977 \t val loss 0.020650265738368034\n",
            "EPOCH 34/200 \t train loss 0.019336426630616188 \t val loss 0.020622873678803444\n",
            "EPOCH 35/200 \t train loss 0.019483419135212898 \t val loss 0.019594090059399605\n",
            "EPOCH 36/200 \t train loss 0.019430356100201607 \t val loss 0.0202474482357502\n",
            "EPOCH 37/200 \t train loss 0.019381407648324966 \t val loss 0.01953216642141342\n",
            "EPOCH 38/200 \t train loss 0.019174622371792793 \t val loss 0.019716506823897362\n",
            "EPOCH 39/200 \t train loss 0.01909133978188038 \t val loss 0.01951248198747635\n",
            "EPOCH 40/200 \t train loss 0.019322803243994713 \t val loss 0.019561469554901123\n",
            "EPOCH 41/200 \t train loss 0.019278788939118385 \t val loss 0.019653452560305595\n",
            "EPOCH 42/200 \t train loss 0.018994426354765892 \t val loss 0.019470926374197006\n",
            "EPOCH 43/200 \t train loss 0.01899462752044201 \t val loss 0.02047964744269848\n",
            "EPOCH 44/200 \t train loss 0.01903003454208374 \t val loss 0.019535310566425323\n",
            "EPOCH 45/200 \t train loss 0.018675951287150383 \t val loss 0.019302284345030785\n",
            "EPOCH 46/200 \t train loss 0.018626758828759193 \t val loss 0.019376391544938087\n",
            "EPOCH 47/200 \t train loss 0.018524907529354095 \t val loss 0.01936284452676773\n",
            "EPOCH 48/200 \t train loss 0.018503591418266296 \t val loss 0.01977359503507614\n",
            "EPOCH 49/200 \t train loss 0.018768396228551865 \t val loss 0.019825855270028114\n",
            "EPOCH 50/200 \t train loss 0.018454857170581818 \t val loss 0.019309470430016518\n",
            "EPOCH 51/200 \t train loss 0.01845293678343296 \t val loss 0.019306613132357597\n",
            "EPOCH 52/200 \t train loss 0.018351340666413307 \t val loss 0.019349215552210808\n",
            "EPOCH 53/200 \t train loss 0.018493181094527245 \t val loss 0.018909653648734093\n",
            "EPOCH 54/200 \t train loss 0.01834779419004917 \t val loss 0.01873723790049553\n",
            "EPOCH 55/200 \t train loss 0.018087565898895264 \t val loss 0.01889435574412346\n",
            "EPOCH 56/200 \t train loss 0.01810566708445549 \t val loss 0.018833890557289124\n",
            "EPOCH 57/200 \t train loss 0.01803828589618206 \t val loss 0.018685724586248398\n",
            "EPOCH 58/200 \t train loss 0.017851456999778748 \t val loss 0.01869475096464157\n",
            "EPOCH 59/200 \t train loss 0.01799611933529377 \t val loss 0.018928445875644684\n",
            "EPOCH 60/200 \t train loss 0.01789938099682331 \t val loss 0.01831166446208954\n",
            "EPOCH 61/200 \t train loss 0.01785835064947605 \t val loss 0.01805996708571911\n",
            "EPOCH 62/200 \t train loss 0.017809206619858742 \t val loss 0.01815854385495186\n",
            "EPOCH 63/200 \t train loss 0.017846176400780678 \t val loss 0.018455931916832924\n",
            "EPOCH 64/200 \t train loss 0.01756114885210991 \t val loss 0.01846277341246605\n",
            "EPOCH 65/200 \t train loss 0.01764252595603466 \t val loss 0.017852267250418663\n",
            "EPOCH 66/200 \t train loss 0.01763189397752285 \t val loss 0.018400082364678383\n",
            "EPOCH 67/200 \t train loss 0.017660127952694893 \t val loss 0.01890960894525051\n",
            "EPOCH 68/200 \t train loss 0.017444707453250885 \t val loss 0.01863618567585945\n",
            "EPOCH 69/200 \t train loss 0.01767292432487011 \t val loss 0.018142759799957275\n",
            "EPOCH 70/200 \t train loss 0.017439935356378555 \t val loss 0.0185554176568985\n",
            "EPOCH 71/200 \t train loss 0.01762516051530838 \t val loss 0.01772128790616989\n",
            "EPOCH 72/200 \t train loss 0.017266521230340004 \t val loss 0.017455974593758583\n",
            "EPOCH 73/200 \t train loss 0.017090126872062683 \t val loss 0.017787886783480644\n",
            "EPOCH 74/200 \t train loss 0.01684567518532276 \t val loss 0.018489262089133263\n",
            "EPOCH 75/200 \t train loss 0.01696646772325039 \t val loss 0.017607761546969414\n",
            "EPOCH 76/200 \t train loss 0.016921481117606163 \t val loss 0.01776529848575592\n",
            "EPOCH 77/200 \t train loss 0.016800379380583763 \t val loss 0.017300965264439583\n",
            "EPOCH 78/200 \t train loss 0.016887763515114784 \t val loss 0.018381981179118156\n",
            "EPOCH 79/200 \t train loss 0.01677737757563591 \t val loss 0.01742342859506607\n",
            "EPOCH 80/200 \t train loss 0.016886580735445023 \t val loss 0.018139827996492386\n",
            "EPOCH 81/200 \t train loss 0.0166794341057539 \t val loss 0.01713000424206257\n",
            "EPOCH 82/200 \t train loss 0.016618087887763977 \t val loss 0.017742672935128212\n",
            "EPOCH 83/200 \t train loss 0.016435882076621056 \t val loss 0.017440704628825188\n",
            "EPOCH 84/200 \t train loss 0.01663161814212799 \t val loss 0.01715656742453575\n",
            "EPOCH 85/200 \t train loss 0.016383036971092224 \t val loss 0.01700882986187935\n",
            "EPOCH 86/200 \t train loss 0.01638207584619522 \t val loss 0.01741223782300949\n",
            "EPOCH 87/200 \t train loss 0.016389474272727966 \t val loss 0.016955235973000526\n",
            "EPOCH 88/200 \t train loss 0.016150904819369316 \t val loss 0.01791590265929699\n",
            "EPOCH 89/200 \t train loss 0.016459884122014046 \t val loss 0.017061708495020866\n",
            "EPOCH 90/200 \t train loss 0.016153277829289436 \t val loss 0.017505353316664696\n",
            "EPOCH 91/200 \t train loss 0.01626919023692608 \t val loss 0.016747968271374702\n",
            "EPOCH 92/200 \t train loss 0.016200430691242218 \t val loss 0.017987091094255447\n",
            "EPOCH 93/200 \t train loss 0.01597794145345688 \t val loss 0.01676579937338829\n",
            "EPOCH 94/200 \t train loss 0.015967966988682747 \t val loss 0.016086280345916748\n",
            "EPOCH 95/200 \t train loss 0.015939578413963318 \t val loss 0.016328953206539154\n",
            "EPOCH 96/200 \t train loss 0.015779586508870125 \t val loss 0.017494894564151764\n",
            "EPOCH 97/200 \t train loss 0.015980465337634087 \t val loss 0.016321642324328423\n",
            "EPOCH 98/200 \t train loss 0.015913276001811028 \t val loss 0.01739519275724888\n",
            "EPOCH 99/200 \t train loss 0.016003789380192757 \t val loss 0.017939817160367966\n",
            "EPOCH 100/200 \t train loss 0.01565694622695446 \t val loss 0.01675901748239994\n",
            "EPOCH 101/200 \t train loss 0.01575285755097866 \t val loss 0.01629575341939926\n",
            "EPOCH 102/200 \t train loss 0.015539649873971939 \t val loss 0.016072262078523636\n",
            "EPOCH 103/200 \t train loss 0.015786634758114815 \t val loss 0.016206488013267517\n",
            "EPOCH 104/200 \t train loss 0.015586202032864094 \t val loss 0.016658538952469826\n",
            "EPOCH 105/200 \t train loss 0.015615937300026417 \t val loss 0.01607692986726761\n",
            "EPOCH 106/200 \t train loss 0.015709975734353065 \t val loss 0.016362639144062996\n",
            "EPOCH 107/200 \t train loss 0.015428987331688404 \t val loss 0.01656104065477848\n",
            "EPOCH 108/200 \t train loss 0.015414189547300339 \t val loss 0.01578538492321968\n",
            "EPOCH 109/200 \t train loss 0.01556742936372757 \t val loss 0.016016367822885513\n",
            "EPOCH 110/200 \t train loss 0.015425932593643665 \t val loss 0.015924179926514626\n",
            "EPOCH 111/200 \t train loss 0.015196683816611767 \t val loss 0.015615923330187798\n",
            "EPOCH 112/200 \t train loss 0.015308555215597153 \t val loss 0.01671495847404003\n",
            "EPOCH 113/200 \t train loss 0.015272666700184345 \t val loss 0.01628032885491848\n",
            "EPOCH 114/200 \t train loss 0.015443763695657253 \t val loss 0.01562519557774067\n",
            "EPOCH 115/200 \t train loss 0.015274059027433395 \t val loss 0.01608349196612835\n",
            "EPOCH 116/200 \t train loss 0.015306149609386921 \t val loss 0.01646142080426216\n",
            "EPOCH 117/200 \t train loss 0.014994884841144085 \t val loss 0.01741572469472885\n",
            "EPOCH 118/200 \t train loss 0.015213490463793278 \t val loss 0.01741434633731842\n",
            "EPOCH 119/200 \t train loss 0.015171218663454056 \t val loss 0.01588071696460247\n",
            "EPOCH 120/200 \t train loss 0.015094340778887272 \t val loss 0.015398694202303886\n",
            "EPOCH 121/200 \t train loss 0.015202115289866924 \t val loss 0.01627962477505207\n",
            "EPOCH 122/200 \t train loss 0.01529779378324747 \t val loss 0.015793515369296074\n",
            "EPOCH 123/200 \t train loss 0.015143230557441711 \t val loss 0.015364561229944229\n",
            "EPOCH 124/200 \t train loss 0.014842509292066097 \t val loss 0.01563326269388199\n",
            "EPOCH 125/200 \t train loss 0.01487684715539217 \t val loss 0.01738574355840683\n",
            "EPOCH 126/200 \t train loss 0.015005280263721943 \t val loss 0.01552038174122572\n",
            "EPOCH 127/200 \t train loss 0.014834503643214703 \t val loss 0.01552299689501524\n",
            "EPOCH 128/200 \t train loss 0.014934398233890533 \t val loss 0.015400235541164875\n",
            "EPOCH 129/200 \t train loss 0.01487626601010561 \t val loss 0.01560018490999937\n",
            "EPOCH 130/200 \t train loss 0.014971188269555569 \t val loss 0.015610606409609318\n",
            "EPOCH 131/200 \t train loss 0.014945168979465961 \t val loss 0.01515229418873787\n",
            "EPOCH 132/200 \t train loss 0.014769907109439373 \t val loss 0.01573077216744423\n",
            "EPOCH 133/200 \t train loss 0.014770586974918842 \t val loss 0.01576627790927887\n",
            "EPOCH 134/200 \t train loss 0.014876261353492737 \t val loss 0.01657366007566452\n",
            "EPOCH 135/200 \t train loss 0.014775772579014301 \t val loss 0.015852520242333412\n",
            "EPOCH 136/200 \t train loss 0.014585860073566437 \t val loss 0.015359240584075451\n",
            "EPOCH 137/200 \t train loss 0.014819183386862278 \t val loss 0.014931576326489449\n",
            "EPOCH 138/200 \t train loss 0.014709931798279285 \t val loss 0.014998636208474636\n",
            "EPOCH 139/200 \t train loss 0.014685253612697124 \t val loss 0.016101503744721413\n",
            "EPOCH 140/200 \t train loss 0.015138545073568821 \t val loss 0.0152051392942667\n",
            "EPOCH 141/200 \t train loss 0.014942362904548645 \t val loss 0.015323820523917675\n",
            "EPOCH 142/200 \t train loss 0.014752671122550964 \t val loss 0.014974198304116726\n",
            "EPOCH 143/200 \t train loss 0.014674643985927105 \t val loss 0.015300111845135689\n",
            "EPOCH 144/200 \t train loss 0.014503397047519684 \t val loss 0.015069392509758472\n",
            "EPOCH 145/200 \t train loss 0.014463067054748535 \t val loss 0.01561700738966465\n",
            "EPOCH 146/200 \t train loss 0.014584275893867016 \t val loss 0.015524395741522312\n",
            "EPOCH 147/200 \t train loss 0.014498853124678135 \t val loss 0.015825513750314713\n",
            "EPOCH 148/200 \t train loss 0.01451363880187273 \t val loss 0.015076903626322746\n",
            "EPOCH 149/200 \t train loss 0.014321512542665005 \t val loss 0.014798931777477264\n",
            "EPOCH 150/200 \t train loss 0.01443446334451437 \t val loss 0.014583929441869259\n",
            "EPOCH 151/200 \t train loss 0.014552749693393707 \t val loss 0.015128187835216522\n",
            "EPOCH 152/200 \t train loss 0.014424803666770458 \t val loss 0.015686554834246635\n",
            "EPOCH 153/200 \t train loss 0.014445978216826916 \t val loss 0.014720707200467587\n",
            "EPOCH 154/200 \t train loss 0.014329041354358196 \t val loss 0.014908796176314354\n",
            "EPOCH 155/200 \t train loss 0.01467990130186081 \t val loss 0.014815853908658028\n",
            "EPOCH 156/200 \t train loss 0.014361724257469177 \t val loss 0.014728476293385029\n",
            "EPOCH 157/200 \t train loss 0.014369470067322254 \t val loss 0.015143746510148048\n",
            "EPOCH 158/200 \t train loss 0.014419334940612316 \t val loss 0.01511770486831665\n",
            "EPOCH 159/200 \t train loss 0.014176269061863422 \t val loss 0.014758650213479996\n",
            "EPOCH 160/200 \t train loss 0.014490912668406963 \t val loss 0.016346758231520653\n",
            "EPOCH 161/200 \t train loss 0.014598873443901539 \t val loss 0.014673872850835323\n",
            "EPOCH 162/200 \t train loss 0.014206492342054844 \t val loss 0.014707420021295547\n",
            "EPOCH 163/200 \t train loss 0.014183525927364826 \t val loss 0.014607811346650124\n",
            "EPOCH 164/200 \t train loss 0.01416479516774416 \t val loss 0.01501014456152916\n",
            "EPOCH 165/200 \t train loss 0.014249186962842941 \t val loss 0.014874721877276897\n",
            "EPOCH 166/200 \t train loss 0.014245894737541676 \t val loss 0.014436549507081509\n",
            "EPOCH 167/200 \t train loss 0.014144223183393478 \t val loss 0.014653950929641724\n",
            "EPOCH 168/200 \t train loss 0.014219908975064754 \t val loss 0.014959449879825115\n",
            "EPOCH 169/200 \t train loss 0.01415614690631628 \t val loss 0.015278637409210205\n",
            "EPOCH 170/200 \t train loss 0.014151357114315033 \t val loss 0.015107586979866028\n",
            "EPOCH 171/200 \t train loss 0.014074407517910004 \t val loss 0.014866556040942669\n",
            "EPOCH 172/200 \t train loss 0.014189104549586773 \t val loss 0.014963713474571705\n",
            "EPOCH 173/200 \t train loss 0.014181531965732574 \t val loss 0.015574270859360695\n",
            "EPOCH 174/200 \t train loss 0.01420607790350914 \t val loss 0.014731301926076412\n",
            "EPOCH 175/200 \t train loss 0.014427145011723042 \t val loss 0.014775506220757961\n",
            "EPOCH 176/200 \t train loss 0.014249619096517563 \t val loss 0.016413284465670586\n",
            "EPOCH 177/200 \t train loss 0.01428298931568861 \t val loss 0.015085569582879543\n",
            "EPOCH 178/200 \t train loss 0.014046206139028072 \t val loss 0.014520044438540936\n",
            "EPOCH 179/200 \t train loss 0.014322809875011444 \t val loss 0.0147169204428792\n",
            "EPOCH 180/200 \t train loss 0.014280262403190136 \t val loss 0.015117323026061058\n",
            "EPOCH 181/200 \t train loss 0.014249461703002453 \t val loss 0.014784139581024647\n",
            "EPOCH 182/200 \t train loss 0.01407671719789505 \t val loss 0.01499937567859888\n",
            "EPOCH 183/200 \t train loss 0.01409240160137415 \t val loss 0.015171157196164131\n",
            "EPOCH 184/200 \t train loss 0.01411360502243042 \t val loss 0.014901239424943924\n",
            "EPOCH 185/200 \t train loss 0.01420939713716507 \t val loss 0.015188382938504219\n",
            "EPOCH 186/200 \t train loss 0.01419880986213684 \t val loss 0.01475015003234148\n",
            "EPOCH 187/200 \t train loss 0.014193952083587646 \t val loss 0.014677540399134159\n",
            "EPOCH 188/200 \t train loss 0.013936382718384266 \t val loss 0.015255928970873356\n",
            "EPOCH 189/200 \t train loss 0.01414367277175188 \t val loss 0.014530627988278866\n",
            "EPOCH 190/200 \t train loss 0.01406546775251627 \t val loss 0.014473470859229565\n",
            "EPOCH 191/200 \t train loss 0.014179665595293045 \t val loss 0.014938323758542538\n",
            "EPOCH 192/200 \t train loss 0.013965698890388012 \t val loss 0.015391243621706963\n",
            "EPOCH 193/200 \t train loss 0.014101504348218441 \t val loss 0.014578101225197315\n",
            "EPOCH 194/200 \t train loss 0.014099719934165478 \t val loss 0.015542942099273205\n",
            "EPOCH 195/200 \t train loss 0.014216492883861065 \t val loss 0.01560958568006754\n",
            "EPOCH 196/200 \t train loss 0.014014426618814468 \t val loss 0.01488097757101059\n",
            "EPOCH 197/200 \t train loss 0.014022447168827057 \t val loss 0.015015787445008755\n",
            "EPOCH 198/200 \t train loss 0.013946129940450191 \t val loss 0.01564267836511135\n",
            "EPOCH 199/200 \t train loss 0.014132576994597912 \t val loss 0.014989552088081837\n",
            "EPOCH 200/200 \t train loss 0.013910621404647827 \t val loss 0.01543017104268074\n"
          ]
        }
      ]
    },
    {
      "cell_type": "code",
      "source": [
        "# Plot losses\n",
        "plt.figure(figsize=(10,8))\n",
        "plt.semilogy(diz_loss['train_loss'], label='Train')\n",
        "plt.semilogy(diz_loss['val_loss'], label='Valid')\n",
        "plt.xlabel('Epoch')\n",
        "plt.ylabel('Average Loss')\n",
        "#plt.grid()\n",
        "plt.legend()\n",
        "#plt.title('loss')\n",
        "plt.show()"
      ],
      "metadata": {
        "colab": {
          "base_uri": "https://localhost:8080/",
          "height": 497
        },
        "id": "wU-yJJqoynUZ",
        "outputId": "38c2e7b1-ff91-4c10-849a-0263be6fc6df"
      },
      "execution_count": null,
      "outputs": [
        {
          "output_type": "display_data",
          "data": {
            "text/plain": [
              "<Figure size 720x576 with 1 Axes>"
            ],
            "image/png": "[encoded data removed]"
          },
          "metadata": {
            "needs_background": "light"
          }
        }
      ]
    },
    {
      "cell_type": "code",
      "source": [
        "# #Seeing how the model performs for the test unseen data. For this we choose 10 figures\n",
        "# #running through model.eval() and compute the loss plus we look at them visually\n",
        "\n",
        "# #Similar to plot_ae_outputs, except that this is one used to see the loss for \n",
        "# #data in the test_loader. It also prints the loss for each\n",
        "# def plot_test_outputs(model,dataset,device,n=10):\n",
        "#     plt.figure(figsize=(26,5.5))\n",
        "#     for i in range(10):\n",
        "#       ax = plt.subplot(2,n,i+1)\n",
        "#       img,_ = dataset[i]\n",
        "#       #Notice that below i'm loading an image only, so it needs to be flatten\n",
        "#       #before entering the network\n",
        "#       img = torch.flatten(img).to(device)\n",
        "#       encoder.eval().to(device)\n",
        "#       decoder.eval().to(device)\n",
        "#       with torch.no_grad():\n",
        "#          decoded_img  = decoder(encoder(img))\n",
        "#          loss = loss_fn(decoded_img,img)\n",
        "#          print('For image {}, the loss = {}'.format(i,loss.data))\n",
        "#       plt.plot(img.cpu().reshape(in_d1,in_d2).numpy()[0],img.cpu().reshape(in_d1,in_d2).numpy()[1]) \n",
        "#       if i == n//2:\n",
        "#         ax.set_title('Original images')\n",
        "#       ax = plt.subplot(2, n, i + 1 + n) \n",
        "#       plt.plot(decoded_img.cpu().reshape(in_d1,in_d2).numpy()[0],decoded_img.cpu().reshape(in_d1,in_d2).numpy()[1]) \n",
        "#       if i == n//2:\n",
        "#          ax.set_title('Reconstructed images')\n",
        "#     plt.show()  \n",
        "\n",
        "\n",
        "# plot_test_outputs(encoder,decoder,test_dataset,device,n=10)"
      ],
      "metadata": {
        "id": "FBQgLrEyzvEL"
      },
      "execution_count": null,
      "outputs": []
    },
    {
      "cell_type": "code",
      "source": [
        "out_samples = []\n",
        "for sample in test_dataset:\n",
        "    img = sample[0]\n",
        "    img = img.to(device) \n",
        "    label_val = sample[1]\n",
        "    # print(label_val.shape)\n",
        "    model.eval()\n",
        "    with torch.no_grad():\n",
        "        out_label  = model(img)\n",
        "    out_label = out_label.cpu().numpy()\n",
        "    # print(enumerate(encoded_img))\n",
        "    out_sample = {f\"pred_label{i}\": enc for i, enc in enumerate(out_label)}\n",
        "    for i in range(nl):\n",
        "      label_index = 'label'+str(i)\n",
        "      out_sample[label_index] = label_val[i].numpy()\n",
        "    # encoded_sample['label1'] = label[1].numpy()\n",
        "    # encoded_sample['label2'] = label[2].numpy()\n",
        "    # encoded_sample['label3'] = label[3].numpy()\n",
        "    out_samples.append(out_sample)\n",
        "df_out_samples = pd.DataFrame(out_samples)\n",
        "df_out_samples\n",
        "\n"
      ],
      "metadata": {
        "colab": {
          "base_uri": "https://localhost:8080/",
          "height": 424
        },
        "id": "INPWUJYi00VT",
        "outputId": "6b9072f2-d182-45bc-902b-c3bd3001a55e"
      },
      "execution_count": null,
      "outputs": [
        {
          "output_type": "execute_result",
          "data": {
            "text/plain": [
              "     pred_label0  pred_label1  pred_label2  label0  label1    label2\n",
              "0       0.143372    -0.201610    -0.443218   0.185  -0.412  -0.58489\n",
              "1       0.173155     0.403905    -0.242381   0.174   0.353  -0.54426\n",
              "2       0.156574     0.367920     0.386328   0.122  0.0998   0.30727\n",
              "3       0.077134    -0.196550     0.424039  0.0859  -0.507   0.55057\n",
              "4       0.075671     0.353169     0.357479  0.0568   0.277   0.17738\n",
              "..           ...          ...          ...     ...     ...       ...\n",
              "590     0.173889     0.445433    -0.228281   0.193   0.591  -0.44723\n",
              "591     0.172215     0.322249    -0.267809   0.179   0.249  -0.50584\n",
              "592     0.092159    -0.310467    -0.347141  0.0866  -0.201  -0.20922\n",
              "593     0.174371     0.533282    -0.202108   0.182   0.589   -0.5938\n",
              "594     0.155718    -0.216681     0.371105   0.179  -0.419   0.43766\n",
              "\n",
              "[595 rows x 6 columns]"
            ],
            "text/html": [
              "\n",
              "  <div id=\"df-4564b093-ec92-4024-8028-816abc53204d\">\n",
              "    <div class=\"colab-df-container\">\n",
              "      <div>\n",
              "<style scoped>\n",
              "    .dataframe tbody tr th:only-of-type {\n",
              "        vertical-align: middle;\n",
              "    }\n",
              "\n",
              "    .dataframe tbody tr th {\n",
              "        vertical-align: top;\n",
              "    }\n",
              "\n",
              "    .dataframe thead th {\n",
              "        text-align: right;\n",
              "    }\n",
              "</style>\n",
              "<table border=\"1\" class=\"dataframe\">\n",
              "  <thead>\n",
              "    <tr style=\"text-align: right;\">\n",
              "      <th></th>\n",
              "      <th>pred_label0</th>\n",
              "      <th>pred_label1</th>\n",
              "      <th>pred_label2</th>\n",
              "      <th>label0</th>\n",
              "      <th>label1</th>\n",
              "      <th>label2</th>\n",
              "    </tr>\n",
              "  </thead>\n",
              "  <tbody>\n",
              "    <tr>\n",
              "      <th>0</th>\n",
              "      <td>0.143372</td>\n",
              "      <td>-0.201610</td>\n",
              "      <td>-0.443218</td>\n",
              "      <td>0.185</td>\n",
              "      <td>-0.412</td>\n",
              "      <td>-0.58489</td>\n",
              "    </tr>\n",
              "    <tr>\n",
              "      <th>1</th>\n",
              "      <td>0.173155</td>\n",
              "      <td>0.403905</td>\n",
              "      <td>-0.242381</td>\n",
              "      <td>0.174</td>\n",
              "      <td>0.353</td>\n",
              "      <td>-0.54426</td>\n",
              "    </tr>\n",
              "    <tr>\n",
              "      <th>2</th>\n",
              "      <td>0.156574</td>\n",
              "      <td>0.367920</td>\n",
              "      <td>0.386328</td>\n",
              "      <td>0.122</td>\n",
              "      <td>0.0998</td>\n",
              "      <td>0.30727</td>\n",
              "    </tr>\n",
              "    <tr>\n",
              "      <th>3</th>\n",
              "      <td>0.077134</td>\n",
              "      <td>-0.196550</td>\n",
              "      <td>0.424039</td>\n",
              "      <td>0.0859</td>\n",
              "      <td>-0.507</td>\n",
              "      <td>0.55057</td>\n",
              "    </tr>\n",
              "    <tr>\n",
              "      <th>4</th>\n",
              "      <td>0.075671</td>\n",
              "      <td>0.353169</td>\n",
              "      <td>0.357479</td>\n",
              "      <td>0.0568</td>\n",
              "      <td>0.277</td>\n",
              "      <td>0.17738</td>\n",
              "    </tr>\n",
              "    <tr>\n",
              "      <th>...</th>\n",
              "      <td>...</td>\n",
              "      <td>...</td>\n",
              "      <td>...</td>\n",
              "      <td>...</td>\n",
              "      <td>...</td>\n",
              "      <td>...</td>\n",
              "    </tr>\n",
              "    <tr>\n",
              "      <th>590</th>\n",
              "      <td>0.173889</td>\n",
              "      <td>0.445433</td>\n",
              "      <td>-0.228281</td>\n",
              "      <td>0.193</td>\n",
              "      <td>0.591</td>\n",
              "      <td>-0.44723</td>\n",
              "    </tr>\n",
              "    <tr>\n",
              "      <th>591</th>\n",
              "      <td>0.172215</td>\n",
              "      <td>0.322249</td>\n",
              "      <td>-0.267809</td>\n",
              "      <td>0.179</td>\n",
              "      <td>0.249</td>\n",
              "      <td>-0.50584</td>\n",
              "    </tr>\n",
              "    <tr>\n",
              "      <th>592</th>\n",
              "      <td>0.092159</td>\n",
              "      <td>-0.310467</td>\n",
              "      <td>-0.347141</td>\n",
              "      <td>0.0866</td>\n",
              "      <td>-0.201</td>\n",
              "      <td>-0.20922</td>\n",
              "    </tr>\n",
              "    <tr>\n",
              "      <th>593</th>\n",
              "      <td>0.174371</td>\n",
              "      <td>0.533282</td>\n",
              "      <td>-0.202108</td>\n",
              "      <td>0.182</td>\n",
              "      <td>0.589</td>\n",
              "      <td>-0.5938</td>\n",
              "    </tr>\n",
              "    <tr>\n",
              "      <th>594</th>\n",
              "      <td>0.155718</td>\n",
              "      <td>-0.216681</td>\n",
              "      <td>0.371105</td>\n",
              "      <td>0.179</td>\n",
              "      <td>-0.419</td>\n",
              "      <td>0.43766</td>\n",
              "    </tr>\n",
              "  </tbody>\n",
              "</table>\n",
              "<p>595 rows × 6 columns</p>\n",
              "</div>\n",
              "      <button class=\"colab-df-convert\" onclick=\"convertToInteractive('df-4564b093-ec92-4024-8028-816abc53204d')\"\n",
              "              title=\"Convert this dataframe to an interactive table.\"\n",
              "              style=\"display:none;\">\n",
              "        \n",
              "  <svg xmlns=\"http://www.w3.org/2000/svg\" height=\"24px\"viewBox=\"0 0 24 24\"\n",
              "       width=\"24px\">\n",
              "    <path d=\"M0 0h24v24H0V0z\" fill=\"none\"/>\n",
              "    <path d=\"M18.56 5.44l.94 2.06.94-2.06 2.06-.94-2.06-.94-.94-2.06-.94 2.06-2.06.94zm-11 1L8.5 8.5l.94-2.06 2.06-.94-2.06-.94L8.5 2.5l-.94 2.06-2.06.94zm10 10l.94 2.06.94-2.06 2.06-.94-2.06-.94-.94-2.06-.94 2.06-2.06.94z\"/><path d=\"M17.41 7.96l-1.37-1.37c-.4-.4-.92-.59-1.43-.59-.52 0-1.04.2-1.43.59L10.3 9.45l-7.72 7.72c-.78.78-.78 2.05 0 2.83L4 21.41c.39.39.9.59 1.41.59.51 0 1.02-.2 1.41-.59l7.78-7.78 2.81-2.81c.8-.78.8-2.07 0-2.86zM5.41 20L4 18.59l7.72-7.72 1.47 1.35L5.41 20z\"/>\n",
              "  </svg>\n",
              "      </button>\n",
              "      \n",
              "  <style>\n",
              "    .colab-df-container {\n",
              "      display:flex;\n",
              "      flex-wrap:wrap;\n",
              "      gap: 12px;\n",
              "    }\n",
              "\n",
              "    .colab-df-convert {\n",
              "      background-color: #E8F0FE;\n",
              "      border: none;\n",
              "      border-radius: 50%;\n",
              "      cursor: pointer;\n",
              "      display: none;\n",
              "      fill: #1967D2;\n",
              "      height: 32px;\n",
              "      padding: 0 0 0 0;\n",
              "      width: 32px;\n",
              "    }\n",
              "\n",
              "    .colab-df-convert:hover {\n",
              "      background-color: #E2EBFA;\n",
              "      box-shadow: 0px 1px 2px rgba(60, 64, 67, 0.3), 0px 1px 3px 1px rgba(60, 64, 67, 0.15);\n",
              "      fill: #174EA6;\n",
              "    }\n",
              "\n",
              "    [theme=dark] .colab-df-convert {\n",
              "      background-color: #3B4455;\n",
              "      fill: #D2E3FC;\n",
              "    }\n",
              "\n",
              "    [theme=dark] .colab-df-convert:hover {\n",
              "      background-color: #434B5C;\n",
              "      box-shadow: 0px 1px 3px 1px rgba(0, 0, 0, 0.15);\n",
              "      filter: drop-shadow(0px 1px 2px rgba(0, 0, 0, 0.3));\n",
              "      fill: #FFFFFF;\n",
              "    }\n",
              "  </style>\n",
              "\n",
              "      <script>\n",
              "        const buttonEl =\n",
              "          document.querySelector('#df-4564b093-ec92-4024-8028-816abc53204d button.colab-df-convert');\n",
              "        buttonEl.style.display =\n",
              "          google.colab.kernel.accessAllowed ? 'block' : 'none';\n",
              "\n",
              "        async function convertToInteractive(key) {\n",
              "          const element = document.querySelector('#df-4564b093-ec92-4024-8028-816abc53204d');\n",
              "          const dataTable =\n",
              "            await google.colab.kernel.invokeFunction('convertToInteractive',\n",
              "                                                     [key], {});\n",
              "          if (!dataTable) return;\n",
              "\n",
              "          const docLinkHtml = 'Like what you see? Visit the ' +\n",
              "            '<a target=\"_blank\" href=https://colab.research.google.com/notebooks/data_table.ipynb>data table notebook</a>'\n",
              "            + ' to learn more about interactive tables.';\n",
              "          element.innerHTML = '';\n",
              "          dataTable['output_type'] = 'display_data';\n",
              "          await google.colab.output.renderOutput(dataTable, element);\n",
              "          const docLink = document.createElement('div');\n",
              "          docLink.innerHTML = docLinkHtml;\n",
              "          element.appendChild(docLink);\n",
              "        }\n",
              "      </script>\n",
              "    </div>\n",
              "  </div>\n",
              "  "
            ]
          },
          "metadata": {},
          "execution_count": 13
        }
      ]
    },
    {
      "cell_type": "code",
      "source": [
        "df_out_samples.plot(x ='label0', y='pred_label0', kind = 'scatter')\n",
        "plt.show()"
      ],
      "metadata": {
        "colab": {
          "base_uri": "https://localhost:8080/",
          "height": 280
        },
        "id": "Aw0Y6Rd0ETIC",
        "outputId": "fb4ed813-9454-4320-850f-4bbc547dee78"
      },
      "execution_count": null,
      "outputs": [
        {
          "output_type": "display_data",
          "data": {
            "text/plain": [
              "<Figure size 432x288 with 1 Axes>"
            ],
            "image/png": "[encoded data removed]"
          },
          "metadata": {
            "needs_background": "light"
          }
        }
      ]
    },
    {
      "cell_type": "code",
      "source": [
        "df_out_samples.plot(x ='label1', y='pred_label1', kind = 'scatter')\n",
        "plt.show()"
      ],
      "metadata": {
        "colab": {
          "base_uri": "https://localhost:8080/",
          "height": 279
        },
        "id": "8GiU99aaEl78",
        "outputId": "666a6df0-f205-4773-aa1b-84a8a33e5be2"
      },
      "execution_count": null,
      "outputs": [
        {
          "output_type": "display_data",
          "data": {
            "text/plain": [
              "<Figure size 432x288 with 1 Axes>"
            ],
            "image/png": "[encoded data removed]"
          },
          "metadata": {
            "needs_background": "light"
          }
        }
      ]
    },
    {
      "cell_type": "code",
      "source": [
        "df_out_samples.plot(x ='label2', y='pred_label2', kind = 'scatter')\n",
        "plt.show()"
      ],
      "metadata": {
        "colab": {
          "base_uri": "https://localhost:8080/",
          "height": 281
        },
        "id": "EQrsYOQXEx8S",
        "outputId": "fcb13063-c115-411c-eca2-60282672307b"
      },
      "execution_count": null,
      "outputs": [
        {
          "output_type": "display_data",
          "data": {
            "text/plain": [
              "<Figure size 432x288 with 1 Axes>"
            ],
            "image/png": "[encoded data removed]"
          },
          "metadata": {
            "needs_background": "light"
          }
        }
      ]
    }
  ]
}